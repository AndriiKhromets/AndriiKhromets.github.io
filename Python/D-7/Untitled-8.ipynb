{
 "cells": [
  {
   "cell_type": "code",
   "execution_count": 37,
   "metadata": {},
   "outputs": [
    {
     "name": "stdout",
     "output_type": "stream",
     "text": [
      "Авраменко\n",
      "Попель\n"
     ]
    }
   ],
   "source": [
    "Pupils = {\n",
    "    'Авраменко': 5,\n",
    "    'Попель': 4,\n",
    "    'Глазова': 1,\n",
    "    'Мерзляк': 2}\n",
    "\n",
    "search_5 = 5 \n",
    "for name, age in Pupils.items():\n",
    "    if age == search_5:\n",
    "        print(name)\n",
    "\n",
    "search_4 = 4 \n",
    "for name, age in Pupils.items():\n",
    "    if age == search_4:\n",
    "        print(name)"
   ]
  },
  {
   "cell_type": "code",
   "execution_count": 34,
   "metadata": {},
   "outputs": [
    {
     "name": "stdout",
     "output_type": "stream",
     "text": [
      "14.0\n",
      "10.416666666666666\n"
     ]
    }
   ],
   "source": [
    "student_data = [{'Lviv':5,'Kiev' : 10},\n",
    "               {'Lviv':8, 'Kiev' : 13},\n",
    "               {'Lviv':7, 'Kiev' : 9},\n",
    "               {'Lviv':9, 'Kiev' : 16},\n",
    "               {'Lviv':13, 'Kiev' : 19},\n",
    "               {'Lviv':25, 'Kiev' : 22},\n",
    "               {'Lviv':20, 'Kiev' : 17},\n",
    "               {'Lviv':15, 'Kiev' : 18},\n",
    "               {'Lviv': 10, 'Kiev' : 12},\n",
    "               {'Lviv': 7, 'Kiev' : 8},\n",
    "               {'Lviv': 4, 'Kiev' : 7},\n",
    "               {'Lviv': 2, 'Kiev' : 17}]\n",
    "counter = 0\n",
    "sum = 0\n",
    "\n",
    "for i in student_data:\n",
    "    sum+=i['Kiev']\n",
    "    counter = counter+1\n",
    "\n",
    "average = sum/counter\n",
    "print(average)\n",
    "\n",
    "coun = 0\n",
    "suma = 0\n",
    "\n",
    "for b in student_data:\n",
    "    suma+=b['Lviv']\n",
    "    coun = coun+1\n",
    "\n",
    "Lviv_sum = suma/coun\n",
    "print(Lviv_sum)"
   ]
  }
 ],
 "metadata": {
  "interpreter": {
   "hash": "38740d3277777e2cd7c6c2cc9d8addf5118fdf3f82b1b39231fd12aeac8aee8b"
  },
  "kernelspec": {
   "display_name": "Python 3.10.0 64-bit",
   "language": "python",
   "name": "python3"
  },
  "language_info": {
   "codemirror_mode": {
    "name": "ipython",
    "version": 3
   },
   "file_extension": ".py",
   "mimetype": "text/x-python",
   "name": "python",
   "nbconvert_exporter": "python",
   "pygments_lexer": "ipython3",
   "version": "3.10.0"
  },
  "orig_nbformat": 4
 },
 "nbformat": 4,
 "nbformat_minor": 2
}
