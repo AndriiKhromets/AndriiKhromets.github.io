{
 "cells": [
  {
   "cell_type": "code",
   "execution_count": 2,
   "metadata": {},
   "outputs": [
    {
     "name": "stdout",
     "output_type": "stream",
     "text": [
      "3 ** 3 = 27\n"
     ]
    }
   ],
   "source": [
    "def sum(a, b):\n",
    "    return a + b\n",
    "\n",
    "def subtract(a, b):\n",
    "    return a - b\n",
    "\n",
    "def mul(a, b):\n",
    "    return a * b\n",
    "\n",
    "def power(a, b):\n",
    "    return a ** b\n",
    "\n",
    "def divide(a, b):\n",
    "    error_message = 'divide by 0'\n",
    "\n",
    "    if b == 0:\n",
    "        return error_message\n",
    "    else:\n",
    "        return a / b\n",
    "\n",
    "\n",
    "def check_operation(operation):\n",
    "    return operation in ['+', '*', '**', '-', '/']\n",
    "\n",
    "\n",
    "def suma(operand_a, operand_b, operation):\n",
    "    result = None\n",
    "    if operation == '+':\n",
    "        result = sum(operand_a, operand_b)\n",
    "    elif operation == '-':\n",
    "        result = subtract(operand_a, operand_b)\n",
    "    elif operation == '*':\n",
    "        result = mul(operand_a, operand_b)\n",
    "    elif operation == '**':\n",
    "        result = power(operand_a, operand_b)\n",
    "    else:\n",
    "        result = divide(operand_a, operand_b)\n",
    "\n",
    "    print(operand_a, operation, operand_b, '=', result)\n",
    "\n",
    "a, user_input_operation, b = input('Enter: ').split()\n",
    "\n",
    "if not check_operation(user_input_operation):\n",
    "    print(f'О \\'{user_input_operation}\\' not supported yet')\n",
    "else:\n",
    "    suma(int(a), int(b), user_input_operation)"
   ]
  }
 ],
 "metadata": {
  "interpreter": {
   "hash": "38740d3277777e2cd7c6c2cc9d8addf5118fdf3f82b1b39231fd12aeac8aee8b"
  },
  "kernelspec": {
   "display_name": "Python 3.10.0 64-bit",
   "language": "python",
   "name": "python3"
  },
  "language_info": {
   "codemirror_mode": {
    "name": "ipython",
    "version": 3
   },
   "file_extension": ".py",
   "mimetype": "text/x-python",
   "name": "python",
   "nbconvert_exporter": "python",
   "pygments_lexer": "ipython3",
   "version": "3.10.0"
  },
  "orig_nbformat": 4
 },
 "nbformat": 4,
 "nbformat_minor": 2
}
