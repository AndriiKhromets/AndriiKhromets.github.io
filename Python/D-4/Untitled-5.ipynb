{
 "cells": [
  {
   "cell_type": "code",
   "execution_count": 17,
   "metadata": {},
   "outputs": [
    {
     "name": "stdout",
     "output_type": "stream",
     "text": [
      "['Afruka', 'Antarktuda', 'Avstralia', 'Evrasia', 'North America', 'South America']\n"
     ]
    }
   ],
   "source": [
    "maillands_t = ['Avstralia', 'Evrasia', 'Afruka', 'Antarktuda']\n",
    "\n",
    "maillands_t.append('North America')\n",
    "maillands_t.append('South America')\n",
    "\n",
    "maillands_t.sort()\n",
    "\n",
    "print(maillands_t)"
   ]
  },
  {
   "cell_type": "code",
   "execution_count": 3,
   "metadata": {},
   "outputs": [
    {
     "name": "stdout",
     "output_type": "stream",
     "text": [
      "['phone', 'samsung', 7800]\n",
      "['phone', 'iphone', 27800]\n"
     ]
    }
   ],
   "source": [
    "goods = [\n",
    "\n",
    "    ['phone', 'samsung', 7800],\n",
    "\n",
    "    ['notebook', 'dell', 28000],\n",
    "\n",
    "    ['notebook', 'hp', 35000],\n",
    "\n",
    "    ['phone', 'iphone', 27800],\n",
    "\n",
    "]\n",
    "\n",
    "types = input('enter')\n",
    "for good in goods:\n",
    "    if types in good:\n",
    "        print(good)\n",
    "\n",
    "cash = int(input('enter'))\n",
    "for good in goods:\n",
    "    if good[2] < cash:\n",
    "        print(good)"
   ]
  }
 ],
 "metadata": {
  "interpreter": {
   "hash": "38740d3277777e2cd7c6c2cc9d8addf5118fdf3f82b1b39231fd12aeac8aee8b"
  },
  "kernelspec": {
   "display_name": "Python 3.10.0 64-bit",
   "language": "python",
   "name": "python3"
  },
  "language_info": {
   "codemirror_mode": {
    "name": "ipython",
    "version": 3
   },
   "file_extension": ".py",
   "mimetype": "text/x-python",
   "name": "python",
   "nbconvert_exporter": "python",
   "pygments_lexer": "ipython3",
   "version": "3.10.0"
  },
  "orig_nbformat": 4
 },
 "nbformat": 4,
 "nbformat_minor": 2
}
