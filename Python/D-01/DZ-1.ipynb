{
 "cells": [
  {
   "cell_type": "code",
   "execution_count": 13,
   "metadata": {},
   "outputs": [
    {
     "name": "stdout",
     "output_type": "stream",
     "text": [
      "В цьому турніри приймають участь Барселона Ювентус Реал\n",
      "Команда Ювентус на останьому місці 57 балів\n"
     ]
    }
   ],
   "source": [
    "class Cham:\n",
    "    coun = 'Англія'\n",
    "    name_с = 'Премєр-Ліга'\n",
    "\n",
    "class Club:\n",
    "    name = ''\n",
    "    city = ''\n",
    "    point = 0\n",
    "\n",
    "real = Club()\n",
    "real.name = 'Реал'\n",
    "real.city = 'Мадрид'\n",
    "real.point = 63\n",
    "\n",
    "uve = Club()\n",
    "uve.name = 'Ювентус'\n",
    "uve.city = 'Турин'\n",
    "uve.point = 57\n",
    "\n",
    "\n",
    "bar = Club()\n",
    "bar.name = 'Барселона'\n",
    "bar.city = 'Барселона'\n",
    "bar.point = 98\n",
    "\n",
    "cl =(f'В цьому турніри приймають участь {bar.name} {uve.name} {real.name}')\n",
    "\n",
    "print(cl)\n",
    "\n",
    "mini = min(bar.point, uve.point, real.point)\n",
    "\n",
    "if mini == 63:\n",
    "    print(f'Команда {real.name} на останьому місці {real.point} балів')\n",
    "elif mini == 57:\n",
    "    print(f'Команда {uve.name} на останьому місці {uve.point} балів')\n",
    "elif mini == 98:\n",
    "    print(f'Команда {bar.name} на останьому місці {bar.point} балів')"
   ]
  }
 ],
 "metadata": {
  "interpreter": {
   "hash": "38740d3277777e2cd7c6c2cc9d8addf5118fdf3f82b1b39231fd12aeac8aee8b"
  },
  "kernelspec": {
   "display_name": "Python 3.10.0 64-bit",
   "language": "python",
   "name": "python3"
  },
  "language_info": {
   "codemirror_mode": {
    "name": "ipython",
    "version": 3
   },
   "file_extension": ".py",
   "mimetype": "text/x-python",
   "name": "python",
   "nbconvert_exporter": "python",
   "pygments_lexer": "ipython3",
   "version": "3.10.0"
  },
  "orig_nbformat": 4
 },
 "nbformat": 4,
 "nbformat_minor": 2
}
