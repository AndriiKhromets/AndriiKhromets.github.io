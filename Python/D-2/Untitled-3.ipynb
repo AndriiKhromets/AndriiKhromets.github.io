{
 "cells": [
  {
   "cell_type": "code",
   "execution_count": 2,
   "metadata": {},
   "outputs": [
    {
     "name": "stdout",
     "output_type": "stream",
     "text": [
      "Хромець набрав 96 балів і отриав оцінку Відміно\n"
     ]
    }
   ],
   "source": [
    "surname = input('Прізвище')\n",
    "numer = 96\n",
    "\n",
    "if 95 <= numer <= 100:\n",
    "    result = ('Відміно')\n",
    "elif 75 <= numer <= 94:\n",
    "    result = ('Добре')\n",
    "elif 61 <= numer <= 74:\n",
    "    result = ('Задовільно')\n",
    "else:\n",
    "    result = ('Не зараховано')\n",
    "print(f'{surname} набрав {numer} балів і отриав оцінку {result}')   "
   ]
  },
  {
   "cell_type": "code",
   "execution_count": 9,
   "metadata": {},
   "outputs": [
    {
     "name": "stdout",
     "output_type": "stream",
     "text": [
      "місто Київ\n"
     ]
    }
   ],
   "source": [
    "obl = input('Область')\n",
    "\n",
    "result = None;\n",
    "\n",
    "match obl :\n",
    " case  'AA' :\n",
    "    print('місто Київ')\n",
    " case  'AB':\n",
    "    print('Вінницька область')\n",
    " case 'AE':\n",
    "    print('Дніпропетровська область')\n",
    " case 'AH':\n",
    "    print('Донецька область')  \n",
    " case _:\n",
    "    print('інша область')    "
   ]
  }
 ],
 "metadata": {
  "interpreter": {
   "hash": "38740d3277777e2cd7c6c2cc9d8addf5118fdf3f82b1b39231fd12aeac8aee8b"
  },
  "kernelspec": {
   "display_name": "Python 3.10.0 64-bit",
   "name": "python3"
  },
  "language_info": {
   "codemirror_mode": {
    "name": "ipython",
    "version": 3
   },
   "file_extension": ".py",
   "mimetype": "text/x-python",
   "name": "python",
   "nbconvert_exporter": "python",
   "pygments_lexer": "ipython3",
   "version": "3.10.0"
  },
  "orig_nbformat": 4
 },
 "nbformat": 4,
 "nbformat_minor": 2
}
