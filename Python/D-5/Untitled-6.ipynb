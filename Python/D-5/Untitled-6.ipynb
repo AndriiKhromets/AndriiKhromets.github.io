{
 "cells": [
  {
   "cell_type": "code",
   "execution_count": 23,
   "metadata": {},
   "outputs": [
    {
     "name": "stdout",
     "output_type": "stream",
     "text": [
      "Буква K зустрічається 1\n",
      "Буква h зустрічається 1\n",
      "Буква r зустрічається 1\n",
      "Буква o зустрічається 1\n",
      "Буква m зустрічається 1\n",
      "Буква e зустрічається 1\n",
      "Буква t зустрічається 1\n",
      "Буква s зустрічається 1\n"
     ]
    }
   ],
   "source": [
    "surname = input('Enter')\n",
    "suma = {}\n",
    "\n",
    "for count in surname:\n",
    "    if count not in suma:\n",
    "        print(f'Буква {count} зустрічається {surname.count(count)}')      "
   ]
  },
  {
   "cell_type": "code",
   "execution_count": 35,
   "metadata": {},
   "outputs": [
    {
     "name": "stdout",
     "output_type": "stream",
     "text": [
      "Andrii\n"
     ]
    }
   ],
   "source": [
    "str = input('Enter')\n",
    "numbers = ['1', '2', '3', '4', '5', '6', '7', '8', '9', '0']\n",
    "sct = ''\n",
    "\n",
    "for count in str:\n",
    "    if count not in numbers:\n",
    "        sct += count\n",
    "print(sct)"
   ]
  }
 ],
 "metadata": {
  "interpreter": {
   "hash": "38740d3277777e2cd7c6c2cc9d8addf5118fdf3f82b1b39231fd12aeac8aee8b"
  },
  "kernelspec": {
   "display_name": "Python 3.10.0 64-bit",
   "language": "python",
   "name": "python3"
  },
  "language_info": {
   "codemirror_mode": {
    "name": "ipython",
    "version": 3
   },
   "file_extension": ".py",
   "mimetype": "text/x-python",
   "name": "python",
   "nbconvert_exporter": "python",
   "pygments_lexer": "ipython3",
   "version": "3.10.0"
  },
  "orig_nbformat": 4
 },
 "nbformat": 4,
 "nbformat_minor": 2
}
