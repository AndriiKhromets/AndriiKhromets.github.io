{
 "cells": [
  {
   "cell_type": "code",
   "execution_count": 8,
   "metadata": {},
   "outputs": [
    {
     "name": "stdout",
     "output_type": "stream",
     "text": [
      "29\n"
     ]
    }
   ],
   "source": [
    "one_numbers = int(input('Enter one'))\n",
    "two_numbers = int(input('Enter two'))\n",
    "suma = 0\n",
    "\n",
    "for numbers in range(one_numbers, two_numbers):\n",
    "    suma += numbers ** 2\n",
    "    \n",
    "print(suma)\n"
   ]
  },
  {
   "cell_type": "code",
   "execution_count": 7,
   "metadata": {},
   "outputs": [
    {
     "name": "stdout",
     "output_type": "stream",
     "text": [
      "5\n"
     ]
    }
   ],
   "source": [
    "st = input('enter')\n",
    "simv = input('enter')\n",
    "\n",
    "suma = 0\n",
    "\n",
    "for number in st:\n",
    "    if number == simv:\n",
    "        suma += 1\n",
    "\n",
    "print(suma)"
   ]
  },
  {
   "cell_type": "code",
   "execution_count": 3,
   "metadata": {},
   "outputs": [
    {
     "name": "stdout",
     "output_type": "stream",
     "text": [
      "Ви будете тут не вперше Київ\n"
     ]
    }
   ],
   "source": [
    "mist = ['Київ', 'Львів', 'Одеса', 'Харків']\n",
    "ple = input('Enter')\n",
    "\n",
    "for mis in mist:\n",
    "    if mis == ple:\n",
    "        print(f'Ви будете тут не вперше {mis}')\n",
    "        break\n",
    "else:\n",
    "    print('Ви будете тут вперше')"
   ]
  }
 ],
 "metadata": {
  "interpreter": {
   "hash": "38740d3277777e2cd7c6c2cc9d8addf5118fdf3f82b1b39231fd12aeac8aee8b"
  },
  "kernelspec": {
   "display_name": "Python 3.10.0 64-bit",
   "language": "python",
   "name": "python3"
  },
  "language_info": {
   "codemirror_mode": {
    "name": "ipython",
    "version": 3
   },
   "file_extension": ".py",
   "mimetype": "text/x-python",
   "name": "python",
   "nbconvert_exporter": "python",
   "pygments_lexer": "ipython3",
   "version": "3.10.0"
  },
  "orig_nbformat": 4
 },
 "nbformat": 4,
 "nbformat_minor": 2
}
