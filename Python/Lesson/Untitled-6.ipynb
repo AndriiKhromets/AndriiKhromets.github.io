{
 "cells": [
  {
   "cell_type": "code",
   "execution_count": 3,
   "metadata": {},
   "outputs": [
    {
     "name": "stdout",
     "output_type": "stream",
     "text": [
      "{'h', 'e', 'l', 'o'}\n"
     ]
    }
   ],
   "source": [
    "a = set('hello')\n",
    "print(a)  "
   ]
  },
  {
   "cell_type": "code",
   "execution_count": 4,
   "metadata": {},
   "outputs": [
    {
     "name": "stdout",
     "output_type": "stream",
     "text": [
      "{1, 2, 3}\n"
     ]
    }
   ],
   "source": [
    "numbers = {1, 2, 3, 1, 2, 3}\n",
    "print(numbers)"
   ]
  },
  {
   "cell_type": "code",
   "execution_count": 5,
   "metadata": {},
   "outputs": [
    {
     "name": "stdout",
     "output_type": "stream",
     "text": [
      "{1, 2, 3, 4}\n",
      "{1, 2}\n",
      "{1, 3}\n"
     ]
    }
   ],
   "source": [
    "numbers = {1, 2, 3}\n",
    "numbers.add(4)\n",
    "print(numbers)    \n",
    "\n",
    "numbers = {1, 2, 3}\n",
    "numbers.remove(3)\n",
    "print(numbers)    \n",
    "\n",
    "numbers = {1, 2, 3}\n",
    "numbers.discard(2)\n",
    "print(numbers)    "
   ]
  },
  {
   "cell_type": "code",
   "execution_count": 7,
   "metadata": {},
   "outputs": [
    {
     "name": "stdout",
     "output_type": "stream",
     "text": [
      "{'banana', 'cherry', 'apple'}\n",
      "{'banana', 'cherry', 'plum', 'peach', 'apple'}\n",
      "{'cherry', 'plum', 'peach', 'apple'}\n"
     ]
    }
   ],
   "source": [
    "goods = {\"apple\", \"banana\", \"cherry\"}\n",
    "print(goods)\n",
    "\n",
    "goods.add('plum')\n",
    "goods.add('peach')\n",
    "goods.add('banana')\n",
    "print(goods)\n",
    "\n",
    "if 'all' in goods :\n",
    "    goods.remove('all')\n",
    "else :\n",
    "    goods.discard('all')\n",
    "\n",
    "    \n",
    "goods.remove('banana')\n",
    "print(goods)"
   ]
  },
  {
   "cell_type": "code",
   "execution_count": 21,
   "metadata": {},
   "outputs": [
    {
     "name": "stdout",
     "output_type": "stream",
     "text": [
      "{'h', 'e', 'l', 'o'}\n",
      "{'t', 'e', 'h', 'i', ' ', 'r', '!'}\n"
     ]
    },
    {
     "data": {
      "text/plain": [
       "{' ', '!', 'e', 'h', 'i', 'l', 'o', 'r', 't'}"
      ]
     },
     "execution_count": 21,
     "metadata": {},
     "output_type": "execute_result"
    }
   ],
   "source": [
    "a = set('hello')\n",
    "print(a)\n",
    "\n",
    "b = set('hi there!')\n",
    "print(b)\n",
    "\n",
    "a ^ b \n",
    "\n",
    "\n",
    "a | b   "
   ]
  },
  {
   "cell_type": "code",
   "execution_count": 2,
   "metadata": {},
   "outputs": [
    {
     "name": "stdout",
     "output_type": "stream",
     "text": [
      "{'Petrov', 'Sidorov', 'Ivanova', 'Petrova', 'Ivanov'}\n",
      "{'Petrov', 'Ivanova', 'Petrova', 'Sidorov', 'Ivanov'}\n",
      "{'Petrov', 'Sidorov', 'Ivanova', 'Petrova', 'Ivanov'}\n",
      "['Ivanov', 'Ivanova', 'Petrov', 'Petrova', 'Sidorov']\n"
     ]
    }
   ],
   "source": [
    "customers_A = {'Ivanov', 'Petrov', 'Sidorov'}\n",
    "customers_B = {'Ivanova', 'Petrova', 'Sidorov'}\n",
    "\n",
    "customers_A_B = customers_A & customers_B\n",
    "# print(customers_A_B)\n",
    "\n",
    "customers_all = customers_A | customers_B \n",
    "print(customers_all)\n",
    "\n",
    "print(customers_B.union(customers_A))\n",
    "print(customers_A.union(customers_B))\n",
    "\n",
    "print(sorted(customers_all))"
   ]
  }
 ],
 "metadata": {
  "interpreter": {
   "hash": "38740d3277777e2cd7c6c2cc9d8addf5118fdf3f82b1b39231fd12aeac8aee8b"
  },
  "kernelspec": {
   "display_name": "Python 3.10.0 64-bit",
   "language": "python",
   "name": "python3"
  },
  "language_info": {
   "codemirror_mode": {
    "name": "ipython",
    "version": 3
   },
   "file_extension": ".py",
   "mimetype": "text/x-python",
   "name": "python",
   "nbconvert_exporter": "python",
   "pygments_lexer": "ipython3",
   "version": "3.10.0"
  },
  "orig_nbformat": 4
 },
 "nbformat": 4,
 "nbformat_minor": 2
}
