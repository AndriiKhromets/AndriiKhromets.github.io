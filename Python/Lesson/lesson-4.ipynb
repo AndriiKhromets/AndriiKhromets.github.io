{
 "cells": [
  {
   "cell_type": "code",
   "execution_count": 8,
   "metadata": {},
   "outputs": [
    {
     "name": "stdout",
     "output_type": "stream",
     "text": [
      "Hello John!\n",
      "Hello John! I am Bill.\n"
     ]
    }
   ],
   "source": [
    "class Human:\n",
    "    name = \"\"\n",
    "\n",
    "    def hello(self, val):\n",
    "        if self.name:\n",
    "            return f\"Hello {val}! I am {self.name}.\"\n",
    "        return f\"Hello {val}!\"\n",
    "\n",
    "bill = Human()\n",
    "print(bill.hello(\"John\"))\n",
    "\n",
    "bill.name = \"Bill\"\n",
    "print(bill.hello(\"John\")) "
   ]
  },
  {
   "cell_type": "code",
   "execution_count": 9,
   "metadata": {},
   "outputs": [
    {
     "name": "stdout",
     "output_type": "stream",
     "text": [
      "Name: Bill\n",
      "Hello! i am Bill\n",
      "0\n",
      "Hello! i am Jill\n",
      "30\n"
     ]
    }
   ],
   "source": [
    "class Human:\n",
    "    def __init__(self, name, age=0):\n",
    "        self.name = name\n",
    "        self.age = age\n",
    "\n",
    "    def say_hello(self):\n",
    "        return f'Hello! i am {self.name}'\n",
    "\n",
    "    def __repr__(self):\n",
    "        return f'Name: {self.name}'\n",
    "\n",
    "\n",
    "bill = Human('Bill')\n",
    "print(bill)\n",
    "\n",
    "print(bill.say_hello())\n",
    "print(bill.age)\n",
    "\n",
    "jill = Human('Jill', 30)\n",
    "print(jill.say_hello())\n",
    "print(jill.age)"
   ]
  },
  {
   "cell_type": "code",
   "execution_count": 10,
   "metadata": {},
   "outputs": [
    {
     "name": "stdout",
     "output_type": "stream",
     "text": [
      "Point (cord x: 1, y:9)\n",
      "Point 1\n"
     ]
    }
   ],
   "source": [
    "class Point:\n",
    "    def __init__(self, x, y):\n",
    "        self.x = x\n",
    "        self.y = y\n",
    "\n",
    "    def __str__(self):\n",
    "        return f'Point {self.x}'\n",
    "\n",
    "    def __repr__(self):\n",
    "        return f'Point (cord x: {self.x}, y:{self.y})'\n",
    "\n",
    "a = Point(1, 9)\n",
    "\n",
    "print(repr(a))\n",
    "print(str(a))"
   ]
  },
  {
   "cell_type": "code",
   "execution_count": 11,
   "metadata": {},
   "outputs": [],
   "source": [
    "class C:\n",
    "    def __init__(self):\n",
    "        self._x = None\n",
    "\n",
    "    @property\n",
    "    def x(self):\n",
    "        \"\"\"I'm the 'x' property.\"\"\"\n",
    "        return self._x\n",
    "\n",
    "    @x.setter\n",
    "    def x(self, value):\n",
    "        self._x = value\n",
    "\n",
    "    @x.deleter\n",
    "    def x(self):\n",
    "        del self._x"
   ]
  },
  {
   "cell_type": "code",
   "execution_count": 12,
   "metadata": {},
   "outputs": [],
   "source": [
    "class C:\n",
    "    def __init__(self):\n",
    "        self._x = None\n",
    "\n",
    "    def getx(self):\n",
    "        return self._x\n",
    "\n",
    "    def setx(self, value):\n",
    "        self._x = value\n",
    "\n",
    "    def delx(self):\n",
    "        del self._x\n",
    "\n",
    "    x = property(getx, setx, delx, \"I'm the 'x' property.\")"
   ]
  },
  {
   "cell_type": "code",
   "execution_count": 13,
   "metadata": {},
   "outputs": [
    {
     "data": {
      "text/plain": [
       "True"
      ]
     },
     "execution_count": 13,
     "metadata": {},
     "output_type": "execute_result"
    }
   ],
   "source": [
    "class Point:\n",
    "    def __init__(self, x, y):\n",
    "        self.x = x\n",
    "        self.y = y\n",
    "\n",
    "    def __eq__(self, other):\n",
    "        return self.x == other.x and self.y == other.y\n",
    "\n",
    "    def __ne__(self, other):\n",
    "        return self.x != other.x or self.y != other.y\n",
    "\n",
    "    def __lt__(self, other):\n",
    "        return self.x < other.x and self.y < other.y\n",
    "\n",
    "    def __gt__(self, other):\n",
    "        return self.x > other.x and self.y > other.y\n",
    "\n",
    "    def __le__(self, other):\n",
    "        return self.x <= other.x and self.y <= other.y\n",
    "\n",
    "    def __ge__(self, other):\n",
    "        return self.x >= other.x and self.y >= other.y\n",
    "\n",
    "\n",
    "Point(0, 0) == Point(0, 0)  # True\n",
    "Point(0, 0) != Point(0, 0)  # False\n",
    "Point(0, 0) < Point(1, 0)   # False\n",
    "Point(0, 0) > Point(0, 1)   # False\n",
    "Point(0, 2) >= Point(0, 1)  # True\n",
    "Point(0, 0) <= Point(0, 0)  # True"
   ]
  }
 ],
 "metadata": {
  "interpreter": {
   "hash": "38740d3277777e2cd7c6c2cc9d8addf5118fdf3f82b1b39231fd12aeac8aee8b"
  },
  "kernelspec": {
   "display_name": "Python 3.10.0 64-bit",
   "language": "python",
   "name": "python3"
  },
  "language_info": {
   "codemirror_mode": {
    "name": "ipython",
    "version": 3
   },
   "file_extension": ".py",
   "mimetype": "text/x-python",
   "name": "python",
   "nbconvert_exporter": "python",
   "pygments_lexer": "ipython3",
   "version": "3.10.0"
  },
  "orig_nbformat": 4
 },
 "nbformat": 4,
 "nbformat_minor": 2
}
