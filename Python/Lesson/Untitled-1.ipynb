{
 "cells": [
  {
   "cell_type": "code",
   "execution_count": 2,
   "metadata": {},
   "outputs": [
    {
     "name": "stdout",
     "output_type": "stream",
     "text": [
      "Dima\n"
     ]
    }
   ],
   "source": [
    "print('Dima')"
   ]
  },
  {
   "cell_type": "code",
   "execution_count": 11,
   "metadata": {},
   "outputs": [
    {
     "name": "stdout",
     "output_type": "stream",
     "text": [
      "Andrii Khromets\n"
     ]
    }
   ],
   "source": [
    "name = 'Andrii'\n",
    "surnames = 'Khromets'\n",
    "print(name, surnames)"
   ]
  },
  {
   "cell_type": "code",
   "execution_count": 9,
   "metadata": {},
   "outputs": [
    {
     "name": "stdout",
     "output_type": "stream",
     "text": [
      "80\n"
     ]
    }
   ],
   "source": [
    "x = 8**2 + 4*(2 + 2)\n",
    "print(x)"
   ]
  },
  {
   "cell_type": "code",
   "execution_count": 13,
   "metadata": {},
   "outputs": [
    {
     "name": "stdout",
     "output_type": "stream",
     "text": [
      "area of squre is 100\n"
     ]
    }
   ],
   "source": [
    "squre_side = 10\n",
    "squre_area = squre_side*squre_side\n",
    "message = 'area of squre is'\n",
    "print(message, squre_area)"
   ]
  },
  {
   "cell_type": "code",
   "execution_count": 19,
   "metadata": {},
   "outputs": [
    {
     "name": "stdout",
     "output_type": "stream",
     "text": [
      "hello Andrii\n"
     ]
    }
   ],
   "source": [
    "name = input('Enter your name')\n",
    "hello_string = f'hello {name}'\n",
    "print(hello_string)"
   ]
  },
  {
   "cell_type": "code",
   "execution_count": 20,
   "metadata": {},
   "outputs": [
    {
     "name": "stdout",
     "output_type": "stream",
     "text": [
      "Hello Andrii Khromets\n"
     ]
    }
   ],
   "source": [
    "first_name = input('Ваше імя')\n",
    "last_name = input('прізвише')\n",
    "glist = f'Hello {first_name} {last_name}'\n",
    "print(glist)"
   ]
  },
  {
   "cell_type": "code",
   "execution_count": 1,
   "metadata": {},
   "outputs": [
    {
     "name": "stdout",
     "output_type": "stream",
     "text": [
      "id(n)= 1826728060368\n",
      "id(m)= 1826728060368\n",
      "id(m)= 1826728065392\n"
     ]
    }
   ],
   "source": [
    "n = 300\n",
    "m = n \n",
    "print('id(n)=', id (n))\n",
    "print('id(m)=', id (m))\n",
    "\n",
    "m = 400 \n",
    "print('id(m)=', id (m))"
   ]
  },
  {
   "cell_type": "code",
   "execution_count": 5,
   "metadata": {},
   "outputs": [
    {
     "name": "stdout",
     "output_type": "stream",
     "text": [
      "29 <class 'str'>\n"
     ]
    }
   ],
   "source": [
    "a = str(29)\n",
    "print(a, type(a))"
   ]
  },
  {
   "cell_type": "code",
   "execution_count": 9,
   "metadata": {},
   "outputs": [
    {
     "name": "stdout",
     "output_type": "stream",
     "text": [
      "a > b\n"
     ]
    }
   ],
   "source": [
    "a = 10 \n",
    "b = 5\n",
    "\n",
    "if a > b :\n",
    "    print('a > b')\n",
    "elif b > a :\n",
    "        print('b > a')\n",
    "else :\n",
    "            print('a <= 0')"
   ]
  },
  {
   "cell_type": "code",
   "execution_count": 10,
   "metadata": {},
   "outputs": [
    {
     "name": "stdout",
     "output_type": "stream",
     "text": [
      "False\n",
      "False\n",
      "True\n",
      "False\n",
      "False\n",
      "True\n"
     ]
    }
   ],
   "source": [
    "print(bool(0))\n",
    "print(bool(None))\n",
    "print(bool('0'))\n",
    "print(bool(''))\n",
    "print(bool(0.0))\n",
    "print(bool(0.1))"
   ]
  },
  {
   "cell_type": "code",
   "execution_count": 11,
   "metadata": {},
   "outputs": [
    {
     "name": "stdout",
     "output_type": "stream",
     "text": [
      "User Oleg can rent a car\n"
     ]
    }
   ],
   "source": [
    "name = 'Oleg'\n",
    "age = 23\n",
    "has_driver_licence = True\n",
    "if name and age >= 18 and has_driver_licence:\n",
    "    print(f'User {name} can rent a car')"
   ]
  },
  {
   "cell_type": "code",
   "execution_count": 18,
   "metadata": {},
   "outputs": [
    {
     "name": "stdout",
     "output_type": "stream",
     "text": [
      "НЕ спати\n"
     ]
    }
   ],
   "source": [
    "day = 1\n",
    "\n",
    "if 1 <= day <= 5:\n",
    "    print('НЕ спати')\n",
    "elif 6 <= day <= 7:\n",
    "    print('Спати')\n",
    "else:\n",
    "    print(None)"
   ]
  },
  {
   "cell_type": "code",
   "execution_count": 1,
   "metadata": {},
   "outputs": [
    {
     "name": "stdout",
     "output_type": "stream",
     "text": [
      "9\n"
     ]
    }
   ],
   "source": [
    "a = int(input('n'))\n",
    "b = int(input('nnn'))\n",
    "operation = input('enter')\n",
    "\n",
    "result = None;\n",
    "\n",
    "match operation :\n",
    " case  '+':\n",
    "    result = a + b\n",
    " case  '-':\n",
    "    result = a - b\n",
    " case '**':\n",
    "    result = a ** b\n",
    "\n",
    "print(result)"
   ]
  },
  {
   "cell_type": "code",
   "execution_count": null,
   "metadata": {},
   "outputs": [],
   "source": [
    "user_currency = input('enter currency')\n",
    "\n",
    "\n",
    "\n",
    "is_exchange = (user_currency == 'usd') or (user_currency == 'eur')\n",
    "\n",
    "if(not is_exchange) :\n",
    "    print('currency not supported')\n",
    "else:\n",
    "    usd_tax = 27.2\n",
    "    usd_eur = 31.4\n",
    "\n",
    "    value = int(input('enter money value'))\n",
    "    money = value * usd_tax if user_currency == 'usd' else value * usd_eur\n",
    "    print('You have ', money, ' uah')"
   ]
  }
 ],
 "metadata": {
  "interpreter": {
   "hash": "38740d3277777e2cd7c6c2cc9d8addf5118fdf3f82b1b39231fd12aeac8aee8b"
  },
  "kernelspec": {
   "display_name": "Python 3.10.0 64-bit",
   "name": "python3"
  },
  "language_info": {
   "codemirror_mode": {
    "name": "ipython",
    "version": 3
   },
   "file_extension": ".py",
   "mimetype": "text/x-python",
   "name": "python",
   "nbconvert_exporter": "python",
   "pygments_lexer": "ipython3",
   "version": "3.10.0"
  },
  "orig_nbformat": 4
 },
 "nbformat": 4,
 "nbformat_minor": 2
}
