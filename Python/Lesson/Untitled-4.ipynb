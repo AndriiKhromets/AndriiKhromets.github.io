{
 "cells": [
  {
   "cell_type": "code",
   "execution_count": 12,
   "metadata": {},
   "outputs": [
    {
     "name": "stdout",
     "output_type": "stream",
     "text": [
      "\t2\t3\t\n",
      "3\t6\t9\t\n",
      "4\t8\t12\t\n"
     ]
    }
   ],
   "source": [
    "a = int(input())\n",
    "b = int(input())\n",
    "c = int(input())\n",
    "d = int(input())\n",
    "\n",
    "print(end = '\\t')\n",
    "for i in range(c, d + 1) :\n",
    "    print(i, end = '\\t')\n",
    "print(\"\")\n",
    "    \n",
    "for i in range(a, b + 1) :\n",
    "    print(i, end = '\\t')\n",
    "    for j in range(c, d + 1) :\n",
    "        print(i * j, end = '\\t')\n",
    "    print(\"\")"
   ]
  },
  {
   "cell_type": "code",
   "execution_count": 11,
   "metadata": {},
   "outputs": [
    {
     "name": "stdout",
     "output_type": "stream",
     "text": [
      "search 1 Сир\n",
      "search 1 Чай\n",
      "search 2 Чай\n",
      "search 1 Куряче філле\n"
     ]
    }
   ],
   "source": [
    "goods_1 = ['Сир', 'Чай', 'Куряче філле']\n",
    "goods_2 = ['Печиво', 'Чай', 'Індюче філле']\n",
    "\n",
    "for i in goods_1 :\n",
    "    print('search 1', i)\n",
    "    for j in goods_2 :\n",
    "        if i == j :\n",
    "            print('search 2', j)"
   ]
  },
  {
   "cell_type": "code",
   "execution_count": 14,
   "metadata": {},
   "outputs": [
    {
     "name": "stdout",
     "output_type": "stream",
     "text": [
      "Hello Andrii\n"
     ]
    }
   ],
   "source": [
    "while True:\n",
    "    name = input('enter')\n",
    "    if name == 'Andrii' :\n",
    "        print('Hello Andrii')\n",
    "        break"
   ]
  },
  {
   "cell_type": "code",
   "execution_count": 16,
   "metadata": {},
   "outputs": [
    {
     "name": "stdout",
     "output_type": "stream",
     "text": [
      "1\n",
      "2\n",
      "3\n",
      "4\n",
      "5\n",
      "6\n",
      "7\n",
      "140\n"
     ]
    }
   ],
   "source": [
    "suma = 0 \n",
    "number = 1\n",
    "\n",
    "while suma <= 100 :\n",
    "    suma = suma + number ** 2 \n",
    "    print(number)\n",
    "    number = number + 1\n",
    "\n",
    "print(suma)    "
   ]
  },
  {
   "cell_type": "code",
   "execution_count": 21,
   "metadata": {},
   "outputs": [
    {
     "name": "stdout",
     "output_type": "stream",
     "text": [
      "45\n",
      "23\n",
      "The end\n"
     ]
    }
   ],
   "source": [
    "min_number = 20\n",
    "max_number = 178\n",
    "\n",
    "while True:\n",
    "    number = int(input('enter'))\n",
    "\n",
    "    if number < min_number :\n",
    "        continue\n",
    "\n",
    "    if number > max_number:\n",
    "        break\n",
    "    else :\n",
    "        print(number)\n",
    "print('The end')"
   ]
  },
  {
   "cell_type": "code",
   "execution_count": 22,
   "metadata": {},
   "outputs": [
    {
     "name": "stdout",
     "output_type": "stream",
     "text": [
      "[]\n",
      "['Ivan', 'Andrii', 'Petro', 'Kateryna']\n"
     ]
    }
   ],
   "source": [
    "pupils = list()\n",
    "print(pupils)\n",
    "\n",
    "pupils = ['Ivan', 'Andrii', 'Petro', 'Kateryna']\n",
    "pupils = list(('Ivan', 'Andrii', 'Petro', 'Kateryna'))\n",
    "\n",
    "print(pupils)"
   ]
  },
  {
   "cell_type": "code",
   "execution_count": 1,
   "metadata": {},
   "outputs": [
    {
     "name": "stdout",
     "output_type": "stream",
     "text": [
      "[]\n",
      "['Ivan', 'Andrii', 'Petro', 'Kateryna']\n",
      "Petro\n",
      "Kateryna\n",
      "['Ivan', 'Andrii', 'Petro', 'Kateryna', 'Vulie', 'Katie']\n",
      "Katie\n",
      "['Andrii', 'Petro', 'Kateryna', 'Vulie', 'Katie']\n",
      "['Petro', 'Kateryna', 'Vulie', 'Katie']\n",
      "best Petro\n",
      "['Kateryna', 'Vulie', 'Katie']\n",
      "['Kateryna', 'Vulie', 'Katie', 'Kolian']\n",
      "['Kateryna', 'Vulie', 'Kolian']\n"
     ]
    }
   ],
   "source": [
    "pupils = list()\n",
    "print(pupils)\n",
    "\n",
    "pupils = ['Ivan', 'Andrii', 'Petro', 'Kateryna']\n",
    "pupils = list(('Ivan', 'Andrii', 'Petro', 'Kateryna'))\n",
    "\n",
    "print(pupils)\n",
    "\n",
    "pupil = pupils[2]\n",
    "print(pupil)\n",
    "\n",
    "pupil = pupils[-1]\n",
    "print(pupil)\n",
    "\n",
    "pupils.append('Vulie')\n",
    "pupils.append('Katie')\n",
    "\n",
    "print(pupils)\n",
    "\n",
    "pupil = pupils[-1]\n",
    "print(pupil)\n",
    "\n",
    "pupils.remove('Ivan')\n",
    "print(pupils)\n",
    "\n",
    "# pupils.remove('Ivan123')\n",
    "\n",
    "best_pupil = pupils.pop(0)\n",
    "print(pupils)\n",
    "\n",
    "best_pupil = pupils.pop(0)\n",
    "print('best', best_pupil)\n",
    "print(pupils)\n",
    "\n",
    "pupils.append('Kolian')\n",
    "print(pupils)\n",
    "\n",
    "del pupils[2]\n",
    "print(pupils)\n",
    "\n"
   ]
  },
  {
   "cell_type": "code",
   "execution_count": 5,
   "metadata": {},
   "outputs": [
    {
     "name": "stdout",
     "output_type": "stream",
     "text": [
      "['ivan', 'dmytro']\n",
      "[]\n"
     ]
    }
   ],
   "source": [
    "pupils = ['ivan', 'dmytro']\n",
    "print(pupils)\n",
    "\n",
    "pupils.clear()\n",
    "print(pupils)"
   ]
  },
  {
   "cell_type": "code",
   "execution_count": 2,
   "metadata": {},
   "outputs": [
    {
     "name": "stdout",
     "output_type": "stream",
     "text": [
      "['Ivan', 'Andrii', 'Petro', 'Kateryna', 'Igor', 'Tymofiy']\n"
     ]
    }
   ],
   "source": [
    "pupils = ['Ivan', 'Andrii', 'Petro', 'Kateryna']\n",
    "\n",
    "pupils_new = ['Igor', 'Tymofiy']\n",
    "\n",
    "pupils.extend(pupils_new)\n",
    "\n",
    "print(pupils)"
   ]
  },
  {
   "cell_type": "code",
   "execution_count": 4,
   "metadata": {},
   "outputs": [
    {
     "name": "stdout",
     "output_type": "stream",
     "text": [
      "['Ivan', 'Andrii', 'Oleh', 'Petro', 'Kateryna']\n"
     ]
    }
   ],
   "source": [
    "pupils = ['Ivan', 'Andrii', 'Petro', 'Kateryna']\n",
    "pupils.insert(2, 'Oleh')\n",
    "print(pupils)"
   ]
  },
  {
   "cell_type": "code",
   "execution_count": 3,
   "metadata": {},
   "outputs": [
    {
     "name": "stdout",
     "output_type": "stream",
     "text": [
      "1\n"
     ]
    }
   ],
   "source": [
    "pupils = ['Ivan', 'Kateryna', 'Andrii', 'Petro', 'Kateryna', 'Kateryna']\n",
    "index_Kate = pupils.index('Kateryna')\n",
    "\n",
    "print(index_Kate)"
   ]
  },
  {
   "cell_type": "code",
   "execution_count": 12,
   "metadata": {},
   "outputs": [
    {
     "name": "stdout",
     "output_type": "stream",
     "text": [
      "In list\n"
     ]
    }
   ],
   "source": [
    "pupils = ['Ivan', 'Kateryna', 'Andrii', 'Petro', 'Kateryna', 'Kateryna', 'Oleh']\n",
    "\n",
    "pupil = input('enter')\n",
    "\n",
    "is_in_list = pupils.count('Oleh')\n",
    "\n",
    "if is_in_list > 0:\n",
    "    print('In list')\n",
    "else:\n",
    "    print('not in class')    "
   ]
  },
  {
   "cell_type": "code",
   "execution_count": 16,
   "metadata": {},
   "outputs": [
    {
     "name": "stdout",
     "output_type": "stream",
     "text": [
      "Andrii\n",
      "Ivan\n",
      "Kateryna\n",
      "Petro\n",
      "Відступ\n",
      "Petro\n",
      "Kateryna\n",
      "Ivan\n",
      "Andrii\n"
     ]
    }
   ],
   "source": [
    "pupils = ['Ivan', 'Andrii', 'Petro', 'Kateryna']\n",
    "pupils.sort()\n",
    "\n",
    "for current_pupil in pupils:\n",
    "    print(current_pupil)\n",
    "\n",
    "print('Відступ')    \n",
    "\n",
    "pupils.reverse()\n",
    "for current_pupil in pupils:\n",
    "    print(current_pupil)"
   ]
  },
  {
   "cell_type": "code",
   "execution_count": 18,
   "metadata": {},
   "outputs": [
    {
     "name": "stdout",
     "output_type": "stream",
     "text": [
      "['Ivan', 'Andrii', 'Petro', 'Kateryna']\n"
     ]
    }
   ],
   "source": [
    "pupils_7A = ['Ivan', 'Andrii', 'Petro', 'Kateryna']\n",
    "\n",
    "pupils_8A = pupils_7A.copy()\n",
    "print(pupils_8A)\n",
    "\n"
   ]
  },
  {
   "cell_type": "code",
   "execution_count": 17,
   "metadata": {},
   "outputs": [
    {
     "name": "stdout",
     "output_type": "stream",
     "text": [
      "4\n"
     ]
    }
   ],
   "source": [
    "pupils_7A = ['Ivan', 'Andrii', 'Petro', 'Kateryna']\n",
    "pupils_7A_count = len(pupils_7A)\n",
    "\n",
    "print(pupils_7A_count)"
   ]
  },
  {
   "cell_type": "code",
   "execution_count": null,
   "metadata": {},
   "outputs": [],
   "source": [
    "pupils_7A = ['Ivan', 'Andrii', 'Petro', 'Kateryna']\n",
    "\n",
    "pupil = input('Enter')\n",
    "\n",
    "is_present = pupil in pupils_7A\n",
    "print(is_present)\n",
    "\n",
    "if pupil in pupils_7A:\n",
    "    print('in list')\n",
    "else:\n",
    "    print('not in class')    "
   ]
  },
  {
   "cell_type": "code",
   "execution_count": 21,
   "metadata": {},
   "outputs": [
    {
     "name": "stdout",
     "output_type": "stream",
     "text": [
      "[]\n",
      "Постачання продуктів\n"
     ]
    },
    {
     "ename": "KeyboardInterrupt",
     "evalue": "Interrupted by user",
     "output_type": "error",
     "traceback": [
      "\u001b[1;31m---------------------------------------------------------------------------\u001b[0m",
      "\u001b[1;31mKeyboardInterrupt\u001b[0m                         Traceback (most recent call last)",
      "\u001b[1;32m~\\AppData\\Local\\Temp/ipykernel_8068/2338689153.py\u001b[0m in \u001b[0;36m<module>\u001b[1;34m\u001b[0m\n\u001b[0;32m      7\u001b[0m \u001b[1;33m\u001b[0m\u001b[0m\n\u001b[0;32m      8\u001b[0m \u001b[1;32mwhile\u001b[0m \u001b[1;32mTrue\u001b[0m\u001b[1;33m:\u001b[0m\u001b[1;33m\u001b[0m\u001b[1;33m\u001b[0m\u001b[0m\n\u001b[1;32m----> 9\u001b[1;33m     \u001b[0mproduct\u001b[0m \u001b[1;33m=\u001b[0m \u001b[0minput\u001b[0m\u001b[1;33m(\u001b[0m\u001b[1;33m)\u001b[0m\u001b[1;33m\u001b[0m\u001b[1;33m\u001b[0m\u001b[0m\n\u001b[0m\u001b[0;32m     10\u001b[0m \u001b[1;33m\u001b[0m\u001b[0m\n\u001b[0;32m     11\u001b[0m     \u001b[1;32mif\u001b[0m \u001b[0mproduct\u001b[0m \u001b[1;33m==\u001b[0m \u001b[1;34m'0'\u001b[0m\u001b[1;33m:\u001b[0m\u001b[1;33m\u001b[0m\u001b[1;33m\u001b[0m\u001b[0m\n",
      "\u001b[1;32mC:\\Python\\lib\\site-packages\\ipykernel\\kernelbase.py\u001b[0m in \u001b[0;36mraw_input\u001b[1;34m(self, prompt)\u001b[0m\n\u001b[0;32m   1004\u001b[0m                 \u001b[1;34m\"raw_input was called, but this frontend does not support input requests.\"\u001b[0m\u001b[1;33m\u001b[0m\u001b[1;33m\u001b[0m\u001b[0m\n\u001b[0;32m   1005\u001b[0m             )\n\u001b[1;32m-> 1006\u001b[1;33m         return self._input_request(\n\u001b[0m\u001b[0;32m   1007\u001b[0m             \u001b[0mstr\u001b[0m\u001b[1;33m(\u001b[0m\u001b[0mprompt\u001b[0m\u001b[1;33m)\u001b[0m\u001b[1;33m,\u001b[0m\u001b[1;33m\u001b[0m\u001b[1;33m\u001b[0m\u001b[0m\n\u001b[0;32m   1008\u001b[0m             \u001b[0mself\u001b[0m\u001b[1;33m.\u001b[0m\u001b[0m_parent_ident\u001b[0m\u001b[1;33m[\u001b[0m\u001b[1;34m\"shell\"\u001b[0m\u001b[1;33m]\u001b[0m\u001b[1;33m,\u001b[0m\u001b[1;33m\u001b[0m\u001b[1;33m\u001b[0m\u001b[0m\n",
      "\u001b[1;32mC:\\Python\\lib\\site-packages\\ipykernel\\kernelbase.py\u001b[0m in \u001b[0;36m_input_request\u001b[1;34m(self, prompt, ident, parent, password)\u001b[0m\n\u001b[0;32m   1049\u001b[0m             \u001b[1;32mexcept\u001b[0m \u001b[0mKeyboardInterrupt\u001b[0m\u001b[1;33m:\u001b[0m\u001b[1;33m\u001b[0m\u001b[1;33m\u001b[0m\u001b[0m\n\u001b[0;32m   1050\u001b[0m                 \u001b[1;31m# re-raise KeyboardInterrupt, to truncate traceback\u001b[0m\u001b[1;33m\u001b[0m\u001b[1;33m\u001b[0m\u001b[0m\n\u001b[1;32m-> 1051\u001b[1;33m                 \u001b[1;32mraise\u001b[0m \u001b[0mKeyboardInterrupt\u001b[0m\u001b[1;33m(\u001b[0m\u001b[1;34m\"Interrupted by user\"\u001b[0m\u001b[1;33m)\u001b[0m \u001b[1;32mfrom\u001b[0m \u001b[1;32mNone\u001b[0m\u001b[1;33m\u001b[0m\u001b[1;33m\u001b[0m\u001b[0m\n\u001b[0m\u001b[0;32m   1052\u001b[0m             \u001b[1;32mexcept\u001b[0m \u001b[0mException\u001b[0m\u001b[1;33m:\u001b[0m\u001b[1;33m\u001b[0m\u001b[1;33m\u001b[0m\u001b[0m\n\u001b[0;32m   1053\u001b[0m                 \u001b[0mself\u001b[0m\u001b[1;33m.\u001b[0m\u001b[0mlog\u001b[0m\u001b[1;33m.\u001b[0m\u001b[0mwarning\u001b[0m\u001b[1;33m(\u001b[0m\u001b[1;34m\"Invalid Message:\"\u001b[0m\u001b[1;33m,\u001b[0m \u001b[0mexc_info\u001b[0m\u001b[1;33m=\u001b[0m\u001b[1;32mTrue\u001b[0m\u001b[1;33m)\u001b[0m\u001b[1;33m\u001b[0m\u001b[1;33m\u001b[0m\u001b[0m\n",
      "\u001b[1;31mKeyboardInterrupt\u001b[0m: Interrupted by user"
     ]
    }
   ],
   "source": [
    "products = ['Апельсин', 'Банан', 'Мандарин']\n",
    "products_sold = list()\n",
    "\n",
    "print(products_sold)\n",
    "\n",
    "print('Постачання продуктів')\n",
    "\n",
    "while True:\n",
    "    product = input()\n",
    "\n",
    "    if product == '0':\n",
    "        break\n",
    "    else:\n",
    "        products.append(product)\n",
    "\n",
    "products.extend(['Картопля', 'Цибуля'])\n",
    "\n",
    "for product in products:\n",
    "    print(product, end=' ')\n",
    "\n",
    "if product in products:\n",
    "    products.remove(product)   \n",
    "    products_sold.append(product)\n",
    "    print('Дякую') \n",
    "else:\n",
    "    print('Продукту нема')    \n"
   ]
  }
 ],
 "metadata": {
  "interpreter": {
   "hash": "38740d3277777e2cd7c6c2cc9d8addf5118fdf3f82b1b39231fd12aeac8aee8b"
  },
  "kernelspec": {
   "display_name": "Python 3.10.0 64-bit",
   "language": "python",
   "name": "python3"
  },
  "language_info": {
   "codemirror_mode": {
    "name": "ipython",
    "version": 3
   },
   "file_extension": ".py",
   "mimetype": "text/x-python",
   "name": "python",
   "nbconvert_exporter": "python",
   "pygments_lexer": "ipython3",
   "version": "3.10.0"
  },
  "orig_nbformat": 4
 },
 "nbformat": 4,
 "nbformat_minor": 2
}
