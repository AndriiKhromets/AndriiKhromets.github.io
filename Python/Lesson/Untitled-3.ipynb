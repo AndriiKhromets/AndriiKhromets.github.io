{
 "cells": [
  {
   "cell_type": "code",
   "execution_count": 2,
   "metadata": {},
   "outputs": [
    {
     "name": "stdout",
     "output_type": "stream",
     "text": [
      "Andrii\n",
      "Dmytro\n",
      "Oksana\n"
     ]
    }
   ],
   "source": [
    "class_AA = ['Andrii', 'Dmytro', 'Oksana']\n",
    "\n",
    "for pupil in class_AA:\n",
    "    print(pupil)"
   ]
  },
  {
   "cell_type": "code",
   "execution_count": 4,
   "metadata": {},
   "outputs": [
    {
     "name": "stdout",
     "output_type": "stream",
     "text": [
      "30\n"
     ]
    }
   ],
   "source": [
    "numbers = [int(i) for i in input().split()]\n",
    "suma = 0\n",
    "\n",
    "for number in numbers :\n",
    "    suma += number\n",
    "\n",
    "print(suma)"
   ]
  },
  {
   "cell_type": "code",
   "execution_count": 7,
   "metadata": {},
   "outputs": [
    {
     "name": "stdout",
     "output_type": "stream",
     "text": [
      "H e l l o   A n d r i i "
     ]
    }
   ],
   "source": [
    "message = 'Hello Andrii'\n",
    "for char in message:\n",
    "    print(char, end = ' ')"
   ]
  },
  {
   "cell_type": "code",
   "execution_count": 1,
   "metadata": {},
   "outputs": [
    {
     "ename": "NameError",
     "evalue": "name 'suma' is not defined",
     "output_type": "error",
     "traceback": [
      "\u001b[1;31m---------------------------------------------------------------------------\u001b[0m",
      "\u001b[1;31mNameError\u001b[0m                                 Traceback (most recent call last)",
      "\u001b[1;32m~\\AppData\\Local\\Temp/ipykernel_7768/2547569587.py\u001b[0m in \u001b[0;36m<module>\u001b[1;34m\u001b[0m\n\u001b[0;32m      5\u001b[0m \u001b[1;33m\u001b[0m\u001b[0m\n\u001b[0;32m      6\u001b[0m \u001b[1;32mfor\u001b[0m \u001b[0mnumber\u001b[0m \u001b[1;32min\u001b[0m \u001b[0mnumbers\u001b[0m\u001b[1;33m:\u001b[0m\u001b[1;33m\u001b[0m\u001b[1;33m\u001b[0m\u001b[0m\n\u001b[1;32m----> 7\u001b[1;33m         \u001b[0msuma\u001b[0m \u001b[1;33m+=\u001b[0m \u001b[0mnumber\u001b[0m\u001b[1;33m\u001b[0m\u001b[1;33m\u001b[0m\u001b[0m\n\u001b[0m\u001b[0;32m      8\u001b[0m \u001b[1;33m\u001b[0m\u001b[0m\n\u001b[0;32m      9\u001b[0m \u001b[0mprint\u001b[0m\u001b[1;33m(\u001b[0m\u001b[0msuma\u001b[0m\u001b[1;33m)\u001b[0m\u001b[1;33m\u001b[0m\u001b[1;33m\u001b[0m\u001b[0m\n",
      "\u001b[1;31mNameError\u001b[0m: name 'suma' is not defined"
     ]
    }
   ],
   "source": [
    "inteval_left = int(input('enter'))\n",
    "inteval_right = int(input('enter'))\n",
    "\n",
    "numbers = range(inteval_left, inteval_right)\n",
    "\n",
    "for number in numbers:\n",
    "        suma += number\n",
    "\n",
    "print(suma)"
   ]
  },
  {
   "cell_type": "code",
   "execution_count": null,
   "metadata": {},
   "outputs": [],
   "source": [
    "inteval_left = int(input('enter'))\n",
    "inteval_right = int(input('enter'))\n",
    "\n",
    "numbers = range(inteval_left, inteval_right)\n",
    "suma = 0\n",
    "suma_limit = 100\n",
    "\n",
    "for number in numbers :\n",
    "    print(number)\n",
    "    suma += int(number)\n",
    "    if suma > suma_limit :\n",
    "        break\n",
    "else:\n",
    "    print('not break')\n",
    "print(suma)         "
   ]
  },
  {
   "cell_type": "code",
   "execution_count": null,
   "metadata": {},
   "outputs": [],
   "source": [
    "menu = ['app', 'pium', 'oran']\n",
    "\n",
    "food_saerch = 'pium'\n",
    "\n",
    "for fruit in menu :\n",
    "    print(fruit)\n",
    "    if fruit == food_saerch, 'int in menu'\n",
    "    break\n",
    "else:\n",
    "    print(food search, 'not in menu')\n"
   ]
  }
 ],
 "metadata": {
  "interpreter": {
   "hash": "38740d3277777e2cd7c6c2cc9d8addf5118fdf3f82b1b39231fd12aeac8aee8b"
  },
  "kernelspec": {
   "display_name": "Python 3.10.0 64-bit",
   "name": "python3"
  },
  "language_info": {
   "codemirror_mode": {
    "name": "ipython",
    "version": 3
   },
   "file_extension": ".py",
   "mimetype": "text/x-python",
   "name": "python",
   "nbconvert_exporter": "python",
   "pygments_lexer": "ipython3",
   "version": "3.10.0"
  },
  "orig_nbformat": 4
 },
 "nbformat": 4,
 "nbformat_minor": 2
}
