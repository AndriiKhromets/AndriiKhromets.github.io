{
 "cells": [
  {
   "cell_type": "code",
   "execution_count": 49,
   "metadata": {},
   "outputs": [
    {
     "name": "stdout",
     "output_type": "stream",
     "text": [
      "Доброго дня Andrii ви забронювали столик для 2 осіб\n",
      "Доброго дня Ivan ви забронювали столик для 4 осіб\n",
      "Доброго дня Oleh ви забронювали столик для 7 осіб\n",
      "Доброго дня Max ви забронювали столик для 3 осіб\n"
     ]
    }
   ],
   "source": [
    "def peop(a, b):\n",
    "    print('Доброго дня', a, 'ви забронювали столик для', b, 'осіб')\n",
    "\n",
    "peop('Andrii', 2)\n",
    "peop('Ivan', 4)\n",
    "peop('Oleh', 7)\n",
    "peop(a= input(\"Enter name\") ,b= input(\"Enter number\"))"
   ]
  },
  {
   "cell_type": "code",
   "execution_count": 42,
   "metadata": {},
   "outputs": [
    {
     "data": {
      "text/plain": [
       "'4'"
      ]
     },
     "execution_count": 42,
     "metadata": {},
     "output_type": "execute_result"
    }
   ],
   "source": [
    "def smaller_num(x,y):\n",
    "    if x>y:\n",
    "        number= y\n",
    "    else:\n",
    "        number= x\n",
    "    return number\n",
    "\n",
    "smaller_num(x= input(\"Enter first number:-\") ,y= input(\"Enter second number:-\"))"
   ]
  },
  {
   "cell_type": "code",
   "execution_count": 13,
   "metadata": {},
   "outputs": [
    {
     "name": "stdout",
     "output_type": "stream",
     "text": [
      "Hello World!\n",
      "Hello World!\n",
      "Hello Dmytro Kovaluk\n"
     ]
    }
   ],
   "source": [
    "def say_hello():\n",
    "    print('Hello World!')   \n",
    "\n",
    "def hello_name(first_name, last_name):\n",
    "    print('Hello', first_name, last_name)\n",
    "\n",
    "say_hello()\n",
    "say_hello()\n",
    "hello_name('Dmytro', 'Kovaluk')"
   ]
  },
  {
   "cell_type": "code",
   "execution_count": 12,
   "metadata": {},
   "outputs": [
    {
     "name": "stdout",
     "output_type": "stream",
     "text": [
      "4 максимально\n",
      "7 максимально\n"
     ]
    }
   ],
   "source": [
    "def print_max(a, b):\n",
    "    if a > b:\n",
    "        print(a, 'максимально')\n",
    "    elif a == b:\n",
    "        print(a, 'равно', b)\n",
    "    else:\n",
    "        print(b, 'максимально')\n",
    "\n",
    "print_max(3, 4)  \n",
    "\n",
    "x = 5\n",
    "y = 7\n",
    "print_max(x, y)  "
   ]
  },
  {
   "cell_type": "code",
   "execution_count": 19,
   "metadata": {},
   "outputs": [
    {
     "name": "stdout",
     "output_type": "stream",
     "text": [
      "222\n",
      "Max of  33 120 is:  120\n"
     ]
    }
   ],
   "source": [
    "num_1 = 33\n",
    "num_2 = 120\n",
    "\n",
    "def max_of_2(a, b):\n",
    "    result = None\n",
    "    \n",
    "    if a > b :\n",
    "        result = a\n",
    "    else:\n",
    "        result = b\n",
    "    return result\n",
    "\n",
    "max_a_b = max_of_2(222, 142)    \n",
    "print(max_of_2(222, 142))\n",
    "\n",
    "print('Max of ', num_1, num_2, 'is: ', max_of_2(num_1, num_2))"
   ]
  },
  {
   "cell_type": "code",
   "execution_count": 6,
   "metadata": {},
   "outputs": [
    {
     "name": "stdout",
     "output_type": "stream",
     "text": [
      "2 ** 3 = 8\n"
     ]
    }
   ],
   "source": [
    "def sum(a, b):\n",
    "    return a + b\n",
    "\n",
    "def subtract(a, b):\n",
    "    return a - b\n",
    "\n",
    "def divide(a, b):\n",
    "    error_message = 'divide by 0'\n",
    "\n",
    "    if b == 0:\n",
    "        return error_message\n",
    "    else:\n",
    "        return a / b\n",
    "\n",
    "\n",
    "def check_operation(operation):\n",
    "    return operation in ['+', '-', '/']\n",
    "\n",
    "\n",
    "def suma(operand_a, operand_b, operation):\n",
    "    result = None\n",
    "    if operation == '+':\n",
    "        result = sum(operand_a, operand_b)\n",
    "    elif operation == '-':\n",
    "        result = subtract(operand_a, operand_b)\n",
    "    else:\n",
    "        result = divide(operand_a, operand_b)\n",
    "\n",
    "    print(operand_a, operation, operand_b, '=', result)\n",
    "\n",
    "a, user_input_operation, b = input('Enter: ').split()\n",
    "\n",
    "if not check_operation(user_input_operation):\n",
    "    print(f'operation \\'{user_input_operation}\\' not supported yet')\n",
    "else:\n",
    "    suma(int(a), int(b), user_input_operation)"
   ]
  }
 ],
 "metadata": {
  "interpreter": {
   "hash": "38740d3277777e2cd7c6c2cc9d8addf5118fdf3f82b1b39231fd12aeac8aee8b"
  },
  "kernelspec": {
   "display_name": "Python 3.10.0 64-bit",
   "language": "python",
   "name": "python3"
  },
  "language_info": {
   "codemirror_mode": {
    "name": "ipython",
    "version": 3
   },
   "file_extension": ".py",
   "mimetype": "text/x-python",
   "name": "python",
   "nbconvert_exporter": "python",
   "pygments_lexer": "ipython3",
   "version": "3.10.0"
  },
  "orig_nbformat": 4
 },
 "nbformat": 4,
 "nbformat_minor": 2
}
