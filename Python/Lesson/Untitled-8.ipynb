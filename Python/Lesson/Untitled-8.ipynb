{
 "cells": [
  {
   "cell_type": "code",
   "execution_count": 49,
   "metadata": {},
   "outputs": [
    {
     "name": "stdout",
     "output_type": "stream",
     "text": [
      "Доброго дня Andrii ви забронювали столик для 2 осіб\n",
      "Доброго дня Ivan ви забронювали столик для 4 осіб\n",
      "Доброго дня Oleh ви забронювали столик для 7 осіб\n",
      "Доброго дня Max ви забронювали столик для 3 осіб\n"
     ]
    }
   ],
   "source": [
    "def peop(a, b):\n",
    "    print('Доброго дня', a, 'ви забронювали столик для', b, 'осіб')\n",
    "\n",
    "peop('Andrii', 2)\n",
    "peop('Ivan', 4)\n",
    "peop('Oleh', 7)\n",
    "peop(a= input(\"Enter name\") ,b= input(\"Enter number\"))"
   ]
  },
  {
   "cell_type": "code",
   "execution_count": 42,
   "metadata": {},
   "outputs": [
    {
     "data": {
      "text/plain": [
       "'4'"
      ]
     },
     "execution_count": 42,
     "metadata": {},
     "output_type": "execute_result"
    }
   ],
   "source": [
    "def smaller_num(x,y):\n",
    "    if x>y:\n",
    "        number= y\n",
    "    else:\n",
    "        number= x\n",
    "    return number\n",
    "\n",
    "smaller_num(x= input(\"Enter first number:-\") ,y= input(\"Enter second number:-\"))"
   ]
  },
  {
   "cell_type": "code",
   "execution_count": 13,
   "metadata": {},
   "outputs": [
    {
     "name": "stdout",
     "output_type": "stream",
     "text": [
      "Hello World!\n",
      "Hello World!\n",
      "Hello Dmytro Kovaluk\n"
     ]
    }
   ],
   "source": [
    "def say_hello():\n",
    "    print('Hello World!')   \n",
    "\n",
    "def hello_name(first_name, last_name):\n",
    "    print('Hello', first_name, last_name)\n",
    "\n",
    "say_hello()\n",
    "say_hello()\n",
    "hello_name('Dmytro', 'Kovaluk')"
   ]
  },
  {
   "cell_type": "code",
   "execution_count": 12,
   "metadata": {},
   "outputs": [
    {
     "name": "stdout",
     "output_type": "stream",
     "text": [
      "4 максимально\n",
      "7 максимально\n"
     ]
    }
   ],
   "source": [
    "def print_max(a, b):\n",
    "    if a > b:\n",
    "        print(a, 'максимально')\n",
    "    elif a == b:\n",
    "        print(a, 'равно', b)\n",
    "    else:\n",
    "        print(b, 'максимально')\n",
    "\n",
    "print_max(3, 4)  \n",
    "\n",
    "x = 5\n",
    "y = 7\n",
    "print_max(x, y)  "
   ]
  },
  {
   "cell_type": "code",
   "execution_count": 19,
   "metadata": {},
   "outputs": [
    {
     "name": "stdout",
     "output_type": "stream",
     "text": [
      "222\n",
      "Max of  33 120 is:  120\n"
     ]
    }
   ],
   "source": [
    "num_1 = 33\n",
    "num_2 = 120\n",
    "\n",
    "def max_of_2(a, b):\n",
    "    result = None\n",
    "    \n",
    "    if a > b :\n",
    "        result = a\n",
    "    else:\n",
    "        result = b\n",
    "    return result\n",
    "\n",
    "max_a_b = max_of_2(222, 142)    \n",
    "print(max_of_2(222, 142))\n",
    "\n",
    "print('Max of ', num_1, num_2, 'is: ', max_of_2(num_1, num_2))"
   ]
  },
  {
   "cell_type": "code",
   "execution_count": 6,
   "metadata": {},
   "outputs": [
    {
     "name": "stdout",
     "output_type": "stream",
     "text": [
      "2 ** 3 = 8\n"
     ]
    }
   ],
   "source": [
    "def sum(a, b):\n",
    "    return a + b\n",
    "\n",
    "def subtract(a, b):\n",
    "    return a - b\n",
    "\n",
    "def divide(a, b):\n",
    "    error_message = 'divide by 0'\n",
    "\n",
    "    if b == 0:\n",
    "        return error_message\n",
    "    else:\n",
    "        return a / b\n",
    "\n",
    "\n",
    "def check_operation(operation):\n",
    "    return operation in ['+', '-', '/']\n",
    "\n",
    "\n",
    "def suma(operand_a, operand_b, operation):\n",
    "    result = None\n",
    "    if operation == '+':\n",
    "        result = sum(operand_a, operand_b)\n",
    "    elif operation == '-':\n",
    "        result = subtract(operand_a, operand_b)\n",
    "    else:\n",
    "        result = divide(operand_a, operand_b)\n",
    "\n",
    "    print(operand_a, operation, operand_b, '=', result)\n",
    "\n",
    "a, user_input_operation, b = input('Enter: ').split()\n",
    "\n",
    "if not check_operation(user_input_operation):\n",
    "    print(f'operation \\'{user_input_operation}\\' not supported yet')\n",
    "else:\n",
    "    suma(int(a), int(b), user_input_operation)"
   ]
  },
  {
   "cell_type": "code",
   "execution_count": 4,
   "metadata": {},
   "outputs": [
    {
     "name": "stdout",
     "output_type": "stream",
     "text": [
      "2\n",
      "50\n"
     ]
    }
   ],
   "source": [
    "x = 50\n",
    "\n",
    "def func():\n",
    "    x = 2\n",
    "    print(x)\n",
    "\n",
    "func()\n",
    "print(x)"
   ]
  },
  {
   "cell_type": "code",
   "execution_count": 7,
   "metadata": {},
   "outputs": [
    {
     "name": "stdout",
     "output_type": "stream",
     "text": [
      "x равно 50\n",
      "Заменяем глобальное значение x на 2\n",
      "Значение x составляет 2\n"
     ]
    }
   ],
   "source": [
    "x = 50\n",
    "\n",
    "def func():\n",
    "  global x\n",
    "print('x равно', x)\n",
    "x = 2\n",
    "print('Заменяем глобальное значение x на', x)\n",
    "\n",
    "func()\n",
    "print('Значение x составляет', x)"
   ]
  },
  {
   "cell_type": "code",
   "execution_count": 8,
   "metadata": {},
   "outputs": [
    {
     "name": "stdout",
     "output_type": "stream",
     "text": [
      "27\n",
      "9\n"
     ]
    }
   ],
   "source": [
    "def stepin(osnova, step = 2):\n",
    "    return osnova ** step\n",
    "\n",
    "print(stepin(3, 3))\n",
    "print(stepin(3))"
   ]
  },
  {
   "cell_type": "code",
   "execution_count": 16,
   "metadata": {},
   "outputs": [
    {
     "ename": "IndentationError",
     "evalue": "expected an indented block after function definition on line 5 (Temp/ipykernel_15132/4287464707.py, line 6)",
     "output_type": "error",
     "traceback": [
      "\u001b[1;36m  File \u001b[1;32m\"C:\\Users\\osadc\\AppData\\Local\\Temp/ipykernel_15132/4287464707.py\"\u001b[1;36m, line \u001b[1;32m6\u001b[0m\n\u001b[1;33m    global subscribers_list_news, subscribers_list_what_new, subscribers_list_ads\u001b[0m\n\u001b[1;37m    ^\u001b[0m\n\u001b[1;31mIndentationError\u001b[0m\u001b[1;31m:\u001b[0m expected an indented block after function definition on line 5\n"
     ]
    }
   ],
   "source": [
    "subscribers_list_news = list()\n",
    "subscribers_list_what_new = list()\n",
    "subscribers_list_ads = list()\n",
    "\n",
    "def subscribe(email, is_news = True, is_new = True, is_ads = True):\n",
    "    global subscribers_list_news, subscribers_list_what_new, subscribers_list_ads\n",
    "if(is_news):\n",
    "    subscribers_list_news.append(email)\n",
    "if(is_new):\n",
    "    subscribers_list_what_new.append(email)\n",
    "if(is_ads):\n",
    "    subscribers_list_ads.append(email)\n",
    "def print_subscribers(subscribers_list, list_name) :\n",
    "    delimiter = '---------------------------'\n",
    "print('На розсилку {} підписалися {} користувачів'.format(list_name, len(list_name)))\n",
    "for user in subscribers_list:\n",
    "   print(user)\n",
    "   print(delimiter)\n",
    "    print()\n",
    "\n",
    "subscribe('ivanov@gmail.com')\n",
    "subscribe('petrov@gmail.com', True, False, False)\n",
    "subscribe('ivanova@gmail.com', is_ads = False)\n",
    "\n",
    "print_subscribers(subscribers_list_news, '\"Новини\"')\n",
    "print_subscribers(subscribers_list_what_new, '\"Що нового ?\"')\n",
    "print_subscribers(subscribers_list_ads, '\"Рекламні пропозиції\"')"
   ]
  },
  {
   "cell_type": "code",
   "execution_count": 17,
   "metadata": {},
   "outputs": [
    {
     "ename": "NameError",
     "evalue": "name 'numbers' is not defined",
     "output_type": "error",
     "traceback": [
      "\u001b[1;31m---------------------------------------------------------------------------\u001b[0m",
      "\u001b[1;31mNameError\u001b[0m                                 Traceback (most recent call last)",
      "\u001b[1;32m~\\AppData\\Local\\Temp/ipykernel_15132/2392330222.py\u001b[0m in \u001b[0;36m<module>\u001b[1;34m\u001b[0m\n\u001b[0;32m      2\u001b[0m     \u001b[0mprint\u001b[0m\u001b[1;33m(\u001b[0m\u001b[1;34m'a'\u001b[0m\u001b[1;33m,\u001b[0m \u001b[0ma\u001b[0m\u001b[1;33m)\u001b[0m\u001b[1;33m\u001b[0m\u001b[1;33m\u001b[0m\u001b[0m\n\u001b[0;32m      3\u001b[0m \u001b[1;31m# проход по всем элементам кортежа\u001b[0m\u001b[1;33m\u001b[0m\u001b[1;33m\u001b[0m\u001b[0m\n\u001b[1;32m----> 4\u001b[1;33m \u001b[1;32mfor\u001b[0m \u001b[0msingle_item\u001b[0m \u001b[1;32min\u001b[0m \u001b[0mnumbers\u001b[0m\u001b[1;33m:\u001b[0m\u001b[1;33m\u001b[0m\u001b[1;33m\u001b[0m\u001b[0m\n\u001b[0m\u001b[0;32m      5\u001b[0m     \u001b[0mprint\u001b[0m\u001b[1;33m(\u001b[0m\u001b[1;34m'single_item'\u001b[0m\u001b[1;33m,\u001b[0m \u001b[0msingle_item\u001b[0m\u001b[1;33m)\u001b[0m\u001b[1;33m\u001b[0m\u001b[1;33m\u001b[0m\u001b[0m\n\u001b[0;32m      6\u001b[0m \u001b[1;33m\u001b[0m\u001b[0m\n",
      "\u001b[1;31mNameError\u001b[0m: name 'numbers' is not defined"
     ]
    }
   ],
   "source": [
    "def total(a=5, *numbers, **phone_book):\n",
    "    print('a', a)\n",
    "# проход по всем элементам кортежа\n",
    "for single_item in numbers:\n",
    "    print('single_item', single_item)\n",
    "\n",
    "#проход по всем элементам словаря\n",
    "for first_part, second_part in phone_book.items():\n",
    "    print(first_part,second_part)\n",
    "\n",
    "print(total(10, 1, 2, 3, Jack=1123, John=2231, Inge=1560))"
   ]
  }
 ],
 "metadata": {
  "interpreter": {
   "hash": "38740d3277777e2cd7c6c2cc9d8addf5118fdf3f82b1b39231fd12aeac8aee8b"
  },
  "kernelspec": {
   "display_name": "Python 3.10.0 64-bit",
   "language": "python",
   "name": "python3"
  },
  "language_info": {
   "codemirror_mode": {
    "name": "ipython",
    "version": 3
   },
   "file_extension": ".py",
   "mimetype": "text/x-python",
   "name": "python",
   "nbconvert_exporter": "python",
   "pygments_lexer": "ipython3",
   "version": "3.10.0"
  },
  "orig_nbformat": 4
 },
 "nbformat": 4,
 "nbformat_minor": 2
}
