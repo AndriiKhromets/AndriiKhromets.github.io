{
 "cells": [
  {
   "cell_type": "code",
   "execution_count": 3,
   "metadata": {},
   "outputs": [
    {
     "name": "stdout",
     "output_type": "stream",
     "text": [
      "{'USD': 27.3, 'EUR': 33.4, 'GBP': 37.21}\n"
     ]
    }
   ],
   "source": [
    "currencies = {'USD': 27.3, 'EUR': 33.4, 'GBP': 37.21}\n",
    "print(currencies)"
   ]
  },
  {
   "cell_type": "code",
   "execution_count": 5,
   "metadata": {},
   "outputs": [
    {
     "name": "stdout",
     "output_type": "stream",
     "text": [
      "{'a': 1, 'b': 2, 'c': 3}\n"
     ]
    }
   ],
   "source": [
    "chars = {'a': 1, 'b': 2}\n",
    "chars['c'] = 3\n",
    "print(chars) "
   ]
  },
  {
   "cell_type": "code",
   "execution_count": 6,
   "metadata": {},
   "outputs": [
    {
     "name": "stdout",
     "output_type": "stream",
     "text": [
      "{'a': 1}\n",
      "2\n"
     ]
    }
   ],
   "source": [
    "chars = {'a': 1, 'b': 2}\n",
    "b_num = chars.pop('b')\n",
    "print(chars)  \n",
    "print(b_num)  "
   ]
  },
  {
   "cell_type": "code",
   "execution_count": 8,
   "metadata": {},
   "outputs": [
    {
     "name": "stdout",
     "output_type": "stream",
     "text": [
      "{}\n"
     ]
    }
   ],
   "source": [
    "chars = {'a': 1, 'b': 2}\n",
    "chars.clear()\n",
    "print(chars) "
   ]
  },
  {
   "cell_type": "code",
   "execution_count": 9,
   "metadata": {},
   "outputs": [
    {
     "name": "stdout",
     "output_type": "stream",
     "text": [
      "{'a': 1, 'b': 2, 'c': 3}\n"
     ]
    }
   ],
   "source": [
    "chars = {'a': 1, 'b': 2}\n",
    "chars.update({\"c\": 3})\n",
    "print(chars) "
   ]
  },
  {
   "cell_type": "code",
   "execution_count": 10,
   "metadata": {},
   "outputs": [
    {
     "data": {
      "text/plain": [
       "True"
      ]
     },
     "execution_count": 10,
     "metadata": {},
     "output_type": "execute_result"
    }
   ],
   "source": [
    "chars = {'a': 1, 'b': 2}\n",
    "chars_copy = chars.copy()\n",
    "chars_copy == chars"
   ]
  },
  {
   "cell_type": "code",
   "execution_count": 11,
   "metadata": {},
   "outputs": [
    {
     "name": "stdout",
     "output_type": "stream",
     "text": [
      "Звіт за червень\n"
     ]
    }
   ],
   "source": [
    "monthes = {1:  'січень',\n",
    "           2:  'лютий',\n",
    "           3:  'березень',\n",
    "           4:  'квітень',\n",
    "           5:  'травень',\n",
    "           6:  'червень',\n",
    "           7:  'липень',\n",
    "           8:  'серпень',\n",
    "           9:  'вересень',\n",
    "           10: 'жовтень',\n",
    "           11: 'листтопад',\n",
    "           12: 'грудень'}\n",
    "\n",
    "report_date = '31.06.2021';\n",
    "\n",
    "month = int(report_date[3:5])\n",
    "\n",
    "month_name = monthes[month] \n",
    "\n",
    "print('Звіт за', month_name)"
   ]
  },
  {
   "cell_type": "code",
   "execution_count": 23,
   "metadata": {},
   "outputs": [
    {
     "name": "stdout",
     "output_type": "stream",
     "text": [
      "1\n",
      "2\n",
      "3\n"
     ]
    }
   ],
   "source": [
    "numbers = {\n",
    "    1: \"one\",\n",
    "    2: \"two\",\n",
    "    3: \"three\"\n",
    "}\n",
    "for x in numbers:\n",
    "    print(x)"
   ]
  },
  {
   "cell_type": "code",
   "execution_count": 35,
   "metadata": {},
   "outputs": [
    {
     "name": "stdout",
     "output_type": "stream",
     "text": [
      "not found\n"
     ]
    }
   ],
   "source": [
    "currencies = {\n",
    "    'USD': ['Сполучені Штати',  27.2,   27.4,   12000], \n",
    "    'EUR': ['Європейський',     30.2,   30.4,   5000], \n",
    "}\n",
    "\n",
    "currencies_new = {\n",
    "    'GBR': ['Фунт',  38.2,   38.4,   12000], \n",
    "}\n",
    "\n",
    "currencies.update(currencies_new)\n",
    "currencies['PZT'] = ['Польский злотий',  6.2,  6.4,   25000]\n",
    "\n",
    "currencies['USD'][0] = 27.3\n",
    "currencies['EUR'][0] = 30.1\n",
    "\n",
    "money_curenny = 'USD'\n",
    "\n",
    "is_presnt = currencies.get('CNY', 'not found')\n",
    "print(is_presnt)"
   ]
  },
  {
   "cell_type": "code",
   "execution_count": 1,
   "metadata": {},
   "outputs": [
    {
     "name": "stdout",
     "output_type": "stream",
     "text": [
      "Іванов Іван\n",
      "Car not found\n"
     ]
    }
   ],
   "source": [
    "transport = {\n",
    "    'AA1111AA': 'Іванов Іван',\n",
    "    'IVANOV'  : 'Іванов Іван',\n",
    "    'AA0007AA': 'Семенов Андрій',\n",
    "    'AA007AA' : 'Іванов Іван',\n",
    "    'AВ1111AВ': 'Вінниця Водоканал',\n",
    "    'AІ1010КК': 'Семенов Андрій',\n",
    "}\n",
    "\n",
    "find_number = 'AA1111AA'\n",
    "\n",
    "transport['AB1111AA'] = 'Sidorov Oleh'\n",
    "transport['BH1111AA'] = 'Sidorov Olena'\n",
    "\n",
    "for car_number, car_owner in transport.items():\n",
    "    if car_number == find_number:\n",
    "        print(car_owner)\n",
    "        break\n",
    "else:\n",
    "    print('car not found')    \n",
    "\n",
    "car_owner = transport.get(find_number, False)\n",
    "if car_owner == True:\n",
    "    print(car_owner)\n",
    "else:\n",
    "    print('Car not found')   \n",
    "\n",
    "\n",
    "people = dict()\n",
    "\n",
    "for car_number, fio in transport.items():\n",
    "    \n",
    "    is_present = people.get(fio, False)\n",
    "    \n",
    "    if is_present:\n",
    "        #додаємо ще одну машину\n",
    "        car_count = people[fio]\n",
    "        car_count += 1\n",
    "        people[fio] = car_count\n",
    "    else:\n",
    "        people[fio] = 1"
   ]
  },
  {
   "cell_type": "code",
   "execution_count": 4,
   "metadata": {},
   "outputs": [
    {
     "name": "stdout",
     "output_type": "stream",
     "text": [
      "Найбільш віддалений від Києва обласний центр - Ужгород\n"
     ]
    }
   ],
   "source": [
    "cities = {\n",
    "    'Київ'    : 0, \n",
    "    'Вінниця' : 240, \n",
    "    'Харків'  : 470, \n",
    "    'Ужгород' : 808, \n",
    "    'Львів'   : 540, \n",
    "    'Житомир' : 120, \n",
    "    'Одеса'   : 430\n",
    "    }\n",
    "\n",
    "min_distance = 0\n",
    "city_name = ''\n",
    "\n",
    "for city, distance in cities.items() :\n",
    "    if distance > min_distance :\n",
    "        city_name = city\n",
    "        min_distance = distance\n",
    "\n",
    "print('Найбільш віддалений від Києва обласний центр -', city_name)"
   ]
  }
 ],
 "metadata": {
  "interpreter": {
   "hash": "38740d3277777e2cd7c6c2cc9d8addf5118fdf3f82b1b39231fd12aeac8aee8b"
  },
  "kernelspec": {
   "display_name": "Python 3.10.0 64-bit",
   "language": "python",
   "name": "python3"
  },
  "language_info": {
   "codemirror_mode": {
    "name": "ipython",
    "version": 3
   },
   "file_extension": ".py",
   "mimetype": "text/x-python",
   "name": "python",
   "nbconvert_exporter": "python",
   "pygments_lexer": "ipython3",
   "version": "3.10.0"
  },
  "orig_nbformat": 4
 },
 "nbformat": 4,
 "nbformat_minor": 2
}
