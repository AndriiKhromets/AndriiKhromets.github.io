{
 "cells": [
  {
   "cell_type": "code",
   "execution_count": 10,
   "metadata": {},
   "outputs": [
    {
     "name": "stdout",
     "output_type": "stream",
     "text": [
      "5\n"
     ]
    }
   ],
   "source": [
    "def func(x, y):\n",
    "      return x + y\n",
    "\n",
    "func_alias = func\n",
    "result = func_alias(2, 3)\n",
    "print(result)"
   ]
  },
  {
   "cell_type": "code",
   "execution_count": 11,
   "metadata": {},
   "outputs": [
    {
     "name": "stdout",
     "output_type": "stream",
     "text": [
      "5\n",
      "-1\n"
     ]
    }
   ],
   "source": [
    "def sum_func(x, y):\n",
    "    return x + y\n",
    "\n",
    "def subtraction_func(x, y):\n",
    "    return x - y\n",
    "\n",
    "def get_operator(operator):\n",
    "    if operator == '+':\n",
    "        return sum_func\n",
    "    elif operator == '-':\n",
    "        return subtraction_func\n",
    "    else:\n",
    "        print('Unknown operator')\n",
    "\n",
    "sum_action_function = get_operator(\"+\")\n",
    "print(sum_action_function(2, 3))    # 5\n",
    "\n",
    "sub_action_function = get_operator(\"-\")\n",
    "print(sub_action_function(2, 3))    # -1"
   ]
  },
  {
   "cell_type": "code",
   "execution_count": 12,
   "metadata": {},
   "outputs": [
    {
     "name": "stdout",
     "output_type": "stream",
     "text": [
      "Send SMS to +380001234567 with text 18.09.2001 надходження: зарплата - 30 000 грн. Баланс: 100 444 грн.\n",
      "Send email to petrov@ggg.com with text 18.09.2001 надходження: зарплата - 30 000 грн. Баланс: 100 444 грн.\n",
      "Send message 18.09.2001 надходження: зарплата - 30 000 грн. Баланс: 100 444 грн. to queue with app id dasdskcs7y774ysbfh\n"
     ]
    }
   ],
   "source": [
    "user_A = {\n",
    "    'phone': '+380001234567',\n",
    "    'notification': 'SMS'\n",
    "}\n",
    "\n",
    "user_B = {\n",
    "    'email': 'petrov@ggg.com', \n",
    "    'notification': 'email'\n",
    "}\n",
    "\n",
    "user_C = {\n",
    "    'app_id': 'dasdskcs7y774ysbfh', \n",
    "    'notification': 'push'\n",
    "}\n",
    "\n",
    "def send_sms(user_info, message):\n",
    "    print('Send SMS to {} with text {}'.format(user_info['phone'], message))\n",
    "    \n",
    "\n",
    "def send_push(user_info, message):\n",
    "    print('Send message {} to queue with app id {}'.format(message, user_info['app_id']))\n",
    "    \n",
    "\n",
    "def send_email(user_info, message):\n",
    "    print('Send email to {} with text {}'.format(user_info['email'], message))\n",
    "    \n",
    "    \n",
    "def check_notification_type(type):\n",
    "    if type == 'SMS':\n",
    "        return send_sms\n",
    "    elif type == 'push':\n",
    "        return send_push\n",
    "    else:\n",
    "        return send_email\n",
    "\n",
    "\n",
    "for user in [user_A, user_B, user_C]:\n",
    "    send_method = check_notification_type(user['notification'])\n",
    "    send_method(user, '18.09.2001 надходження: зарплата - 30 000 грн. Баланс: 100 444 грн.')"
   ]
  },
  {
   "cell_type": "code",
   "execution_count": 13,
   "metadata": {},
   "outputs": [
    {
     "data": {
      "text/plain": [
       "5"
      ]
     },
     "execution_count": 13,
     "metadata": {},
     "output_type": "execute_result"
    }
   ],
   "source": [
    "def sum_func(x, y):\n",
    "    return x + y\n",
    "\n",
    "\n",
    "def sub_func(x, y):\n",
    "    return x - y\n",
    "\n",
    "\n",
    "OPERATIONS = {\n",
    "    '-': sub_func,\n",
    "    '+': sum_func\n",
    "}\n",
    "\n",
    "\n",
    "def get_handler(operator):\n",
    "    return OPERATIONS[operator]\n",
    "\n",
    "\n",
    "handler = get_handler('-')\n",
    "handler(2, 3)           # -1\n",
    "\n",
    "get_handler('+')(2, 3)  # 5"
   ]
  },
  {
   "cell_type": "code",
   "execution_count": 14,
   "metadata": {},
   "outputs": [
    {
     "data": {
      "text/plain": [
       "22"
      ]
     },
     "execution_count": 14,
     "metadata": {},
     "output_type": "execute_result"
    }
   ],
   "source": [
    "sum_lambda = lambda x, y: x + y\n",
    "sum_lambda(10, 12)"
   ]
  },
  {
   "cell_type": "code",
   "execution_count": 15,
   "metadata": {},
   "outputs": [
    {
     "name": "stdout",
     "output_type": "stream",
     "text": [
      "1\n",
      "4\n",
      "9\n",
      "16\n",
      "25\n"
     ]
    }
   ],
   "source": [
    "numbers = [1, 2, 3, 4, 5]\n",
    "\n",
    "for i in map(lambda x: x ** 2, numbers):\n",
    "    print(i)\n"
   ]
  },
  {
   "cell_type": "code",
   "execution_count": 16,
   "metadata": {},
   "outputs": [
    {
     "name": "stdout",
     "output_type": "stream",
     "text": [
      "1\n",
      "3\n",
      "5\n",
      "7\n",
      "9\n"
     ]
    }
   ],
   "source": [
    "for i in filter(lambda x: x % 2, range(1, 10)):\n",
    "    print(i)"
   ]
  },
  {
   "cell_type": "code",
   "execution_count": 17,
   "metadata": {},
   "outputs": [
    {
     "name": "stdout",
     "output_type": "stream",
     "text": [
      "[['China', 1394015977], ['United States', 329877505], ['India', 1326093247]]\n"
     ]
    }
   ],
   "source": [
    "countries = [\n",
    "    ['China', 1394015977],\n",
    "    ['United States', 329877505],\n",
    "    ['India', 1326093247],\n",
    "    ['Indonesia', 267026366],\n",
    "    ['Bangladesh', 162650853],\n",
    "    ['Pakistan', 233500636],\n",
    "    ['Nigeria', 214028302],\n",
    "    ['Brazil', 21171597],\n",
    "    ['Russia', 141722205],\n",
    "    ['Mexico', 128649565]\n",
    "]\n",
    "\n",
    "populated = filter(lambda c: c[1] > 300000000, countries)\n",
    "\n",
    "print(list(populated))"
   ]
  },
  {
   "cell_type": "code",
   "execution_count": 18,
   "metadata": {},
   "outputs": [
    {
     "name": "stdout",
     "output_type": "stream",
     "text": [
      "Ivanova\n",
      "Petrova\n",
      "Sidorova\n",
      "Ivanova\n",
      "Petrova\n",
      "Sidorova\n"
     ]
    }
   ],
   "source": [
    "employers = [\n",
    "    {'name': 'Ivanova', \n",
    "     'gender': 'female',\n",
    "    }, \n",
    "    {'name': 'Ivanov', \n",
    "     'gender': 'male',\n",
    "    }, \n",
    "    {'name': 'Petrova', \n",
    "     'gender': 'female',\n",
    "    }, \n",
    "    {'name': 'Sidorova', \n",
    "     'gender': 'female',\n",
    "    }, \n",
    "]\n",
    "\n",
    "def check_female(user):\n",
    "    return user['gender'] == 'female'\n",
    "\n",
    "womans = filter(check_female, employers)\n",
    "for worker in womans:\n",
    "    print(worker['name'])\n",
    "\n",
    "for worker in filter(check_female, employers):\n",
    "    print(worker['name'])"
   ]
  }
 ],
 "metadata": {
  "interpreter": {
   "hash": "38740d3277777e2cd7c6c2cc9d8addf5118fdf3f82b1b39231fd12aeac8aee8b"
  },
  "kernelspec": {
   "display_name": "Python 3.10.0 64-bit",
   "language": "python",
   "name": "python3"
  },
  "language_info": {
   "codemirror_mode": {
    "name": "ipython",
    "version": 3
   },
   "file_extension": ".py",
   "mimetype": "text/x-python",
   "name": "python",
   "nbconvert_exporter": "python",
   "pygments_lexer": "ipython3",
   "version": "3.10.0"
  },
  "orig_nbformat": 4
 },
 "nbformat": 4,
 "nbformat_minor": 2
}
