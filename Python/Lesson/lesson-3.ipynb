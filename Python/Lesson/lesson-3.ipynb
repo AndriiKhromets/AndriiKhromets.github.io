{
 "cells": [
  {
   "cell_type": "code",
   "execution_count": null,
   "metadata": {},
   "outputs": [],
   "source": [
    "class Human:\n",
    "    name = \"\"\n",
    "\n",
    "    def hello(self, val):\n",
    "        if self.name:\n",
    "            return f\"Hello {val}! I am {self.name}.\"\n",
    "        return f\"Hello {val}!\"\n",
    "\n",
    "bill = Human()\n",
    "print(bill.hello(\"John\"))\n",
    "\n",
    "bill.name = \"Bill\"\n",
    "print(bill.hello(\"John\")) "
   ]
  }
 ],
 "metadata": {
  "language_info": {
   "name": "python"
  },
  "orig_nbformat": 4
 },
 "nbformat": 4,
 "nbformat_minor": 2
}
