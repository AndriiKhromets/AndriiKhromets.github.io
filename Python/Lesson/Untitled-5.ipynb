{
 "cells": [
  {
   "cell_type": "code",
   "execution_count": 3,
   "metadata": {},
   "outputs": [
    {
     "name": "stdout",
     "output_type": "stream",
     "text": [
      "Jingle bells, jingle bells\n",
      "Jingle all the way\n",
      "Oh, what fun it is to ride\n",
      "In a one horse open sleigh\n"
     ]
    }
   ],
   "source": [
    "text = \"\"\"This is first line\n",
    "And second line\n",
    "Last third line\"\"\"\n",
    " \n",
    "song = '''Jingle bells, jingle bells\n",
    "Jingle all the way\n",
    "Oh, what fun it is to ride\n",
    "In a one horse open sleigh'''\n",
    "\n",
    "print(song)"
   ]
  },
  {
   "cell_type": "code",
   "execution_count": 4,
   "metadata": {},
   "outputs": [
    {
     "name": "stdout",
     "output_type": "stream",
     "text": [
      "Textual data in Python is handled with str objects, or strings. Strings are immutable sequences of Unicode code points. String literals are written in a variety of ways.\n"
     ]
    }
   ],
   "source": [
    "one_line_text = \"Textual data in Python is handled with str objects, or strings. \"\\\n",
    "            \t\"Strings are immutable sequences of Unicode code points. \"\\\n",
    "            \t\"String literals are written in a variety of ways.\"\n",
    "print(one_line_text)"
   ]
  },
  {
   "cell_type": "code",
   "execution_count": 5,
   "metadata": {},
   "outputs": [
    {
     "name": "stdout",
     "output_type": "stream",
     "text": [
      "15\n",
      "[12, 11]\n"
     ]
    }
   ],
   "source": [
    "# an integer to a string\n",
    "s = str(15)\n",
    "print(s)\n",
    " \n",
    " \n",
    "# a list to a string\n",
    "s = str([12, 11])\n",
    "print(s)"
   ]
  },
  {
   "cell_type": "code",
   "execution_count": 6,
   "metadata": {},
   "outputs": [
    {
     "data": {
      "text/plain": [
       "'ly'"
      ]
     },
     "execution_count": 6,
     "metadata": {},
     "output_type": "execute_result"
    }
   ],
   "source": [
    "message = 'Hello Dmytro'\n",
    "\n",
    "message[2] + message[8]"
   ]
  },
  {
   "cell_type": "code",
   "execution_count": 7,
   "metadata": {},
   "outputs": [
    {
     "name": "stdout",
     "output_type": "stream",
     "text": [
      "A\n",
      "r\n"
     ]
    }
   ],
   "source": [
    "pip = 'Andrii Khromets'\n",
    "first_name_start = pip[0]\n",
    "last_name_start = pip[-6]\n",
    " \n",
    "print(first_name_start)\n",
    "print(last_name_start)\n",
    " \n",
    "if first_name_start == last_name_start :\n",
    "\tprint('first name and last name strts with', first_name_start)"
   ]
  },
  {
   "cell_type": "code",
   "execution_count": 11,
   "metadata": {},
   "outputs": [
    {
     "data": {
      "text/plain": [
       "'bdfh'"
      ]
     },
     "execution_count": 11,
     "metadata": {},
     "output_type": "execute_result"
    }
   ],
   "source": [
    "s = 'abcdefghijk'\n",
    "# s[3:5]\n",
    "# s[:6]\n",
    "# s[3:]\n",
    "\n",
    "s[1:8:2]\n",
    "\n",
    "# s[::-1]\n",
    "# s[-3:]\n",
    "# s[:-5]\n",
    "# s[-1:-6:-2]"
   ]
  },
  {
   "cell_type": "code",
   "execution_count": 12,
   "metadata": {},
   "outputs": [
    {
     "name": "stdout",
     "output_type": "stream",
     "text": [
      "Hello World!\n"
     ]
    }
   ],
   "source": [
    "s = 'Hello' + ' ' + 'World' + '!'\n",
    "print(s)"
   ]
  },
  {
   "cell_type": "code",
   "execution_count": 13,
   "metadata": {},
   "outputs": [
    {
     "name": "stdout",
     "output_type": "stream",
     "text": [
      "-------------------------\n",
      "abcabcabc\n"
     ]
    }
   ],
   "source": [
    "delimiter = '-' * 25\n",
    "print(delimiter)\n",
    " \n",
    "s = 'abc' * 3\n",
    "print(s)"
   ]
  },
  {
   "cell_type": "code",
   "execution_count": 15,
   "metadata": {},
   "outputs": [
    {
     "name": "stdout",
     "output_type": "stream",
     "text": [
      "i\tAndrii\tKhromets\n"
     ]
    }
   ],
   "source": [
    "fio = \"i\\tAndrii\\tKhromets\"\n",
    "print(fio)"
   ]
  },
  {
   "cell_type": "code",
   "execution_count": 26,
   "metadata": {},
   "outputs": [
    {
     "name": "stdout",
     "output_type": "stream",
     "text": [
      "д\\Артанян\n",
      "avtor says: \"cytota\"\n"
     ]
    },
    {
     "data": {
      "text/plain": [
       "9"
      ]
     },
     "execution_count": 26,
     "metadata": {},
     "output_type": "execute_result"
    }
   ],
   "source": [
    "name = 'д\\Артанян'\n",
    "\n",
    "print(name)\n",
    "\n",
    "cytota = \"avtor says: \\\"cytota\\\"\"\n",
    "\n",
    "print(cytota)\n",
    "len(name)\n",
    "\n",
    "name.find(mask, 2, 4)\n",
    "name.count(mask, 1, 0)\n"
   ]
  },
  {
   "cell_type": "code",
   "execution_count": 24,
   "metadata": {},
   "outputs": [
    {
     "name": "stdout",
     "output_type": "stream",
     "text": [
      "Spam\n"
     ]
    }
   ],
   "source": [
    "adv_words = ['купити', 'продати', 'реклама']\n",
    "user_text = input()\n",
    "not_found = -1\n",
    "is_spam = False\n",
    " \n",
    "for stop_word in adv_words :\n",
    "\tif user_text.find(stop_word) != not_found :\n",
    "    \t is_spam = True\n",
    "    \t break\n",
    "\t\n",
    "message = 'Spam' if is_spam else 'Not Spam' \t\n",
    "print(message)"
   ]
  },
  {
   "cell_type": "code",
   "execution_count": 1,
   "metadata": {},
   "outputs": [
    {
     "name": "stdout",
     "output_type": "stream",
     "text": [
      "4\n"
     ]
    }
   ],
   "source": [
    "str =  input('enter')\n",
    "\n",
    "print(len(str))"
   ]
  },
  {
   "cell_type": "code",
   "execution_count": 3,
   "metadata": {},
   "outputs": [
    {
     "name": "stdout",
     "output_type": "stream",
     "text": [
      "first name: fgb\n",
      "last name: gghjj\n"
     ]
    }
   ],
   "source": [
    "fio = input('enter')\n",
    "fio_list = fio.split()\n",
    "\n",
    "print('first name:', fio_list[0])\n",
    "print('last name:', fio_list[1])"
   ]
  },
  {
   "cell_type": "code",
   "execution_count": 6,
   "metadata": {},
   "outputs": [
    {
     "name": "stdout",
     "output_type": "stream",
     "text": [
      "first name: Andrii\n",
      "last name: Khromets\n"
     ]
    }
   ],
   "source": [
    "di = 'Andrii;Khromets'\n",
    "connekt = di.split(';')\n",
    "\n",
    "print('first name:', connekt[0])\n",
    "print('last name:', connekt[1])"
   ]
  },
  {
   "cell_type": "code",
   "execution_count": 12,
   "metadata": {},
   "outputs": [
    {
     "name": "stdout",
     "output_type": "stream",
     "text": [
      "['mhgg', '128.98.45.09', ' carot']\n"
     ]
    }
   ],
   "source": [
    "connection = ['mhgg', '128.98.45.09', ' carot']\n",
    "\n",
    "connection_s = 'N'.join(connection)\n",
    "print(connection)"
   ]
  },
  {
   "cell_type": "code",
   "execution_count": 13,
   "metadata": {},
   "outputs": [
    {
     "name": "stdout",
     "output_type": "stream",
     "text": [
      "hello, world!\n"
     ]
    }
   ],
   "source": [
    "S = 'Hello, World!'\n",
    "print(S.lower())\n",
    "# Prints hello, world!"
   ]
  },
  {
   "cell_type": "code",
   "execution_count": 14,
   "metadata": {},
   "outputs": [
    {
     "name": "stdout",
     "output_type": "stream",
     "text": [
      "HELLO, WORLD!\n"
     ]
    }
   ],
   "source": [
    "S = 'Hello, World!'\n",
    "print(S.upper())\n",
    "# Prints HELLO, WORLD!"
   ]
  },
  {
   "cell_type": "code",
   "execution_count": 15,
   "metadata": {},
   "outputs": [
    {
     "name": "stdout",
     "output_type": "stream",
     "text": [
      "Hello, world!\n"
     ]
    }
   ],
   "source": [
    "S = 'Hello, World!'\n",
    "print(S.capitalize())\n",
    "# Prints Hello, world!"
   ]
  },
  {
   "cell_type": "code",
   "execution_count": 16,
   "metadata": {},
   "outputs": [
    {
     "name": "stdout",
     "output_type": "stream",
     "text": [
      "hELLO, wORLD!\n"
     ]
    }
   ],
   "source": [
    "S = 'Hello, World!'\n",
    "print(S.swapcase())\n",
    "# Prints hELLO, wORLD!"
   ]
  },
  {
   "cell_type": "code",
   "execution_count": 17,
   "metadata": {},
   "outputs": [
    {
     "name": "stdout",
     "output_type": "stream",
     "text": [
      "Hello, World!\n"
     ]
    }
   ],
   "source": [
    "S = 'hello, world!'\n",
    "print(S.title())\n",
    "# Prints Hello, World!"
   ]
  },
  {
   "cell_type": "code",
   "execution_count": 23,
   "metadata": {},
   "outputs": [
    {
     "name": "stdout",
     "output_type": "stream",
     "text": [
      "zu\n"
     ]
    }
   ],
   "source": [
    "map = {ord('з'): 'z', ord('ю'): 'u'}\n",
    "translated = 'зю'.translate(map)\n",
    "print(translated) # zu"
   ]
  },
  {
   "cell_type": "code",
   "execution_count": 26,
   "metadata": {},
   "outputs": [
    {
     "name": "stdout",
     "output_type": "stream",
     "text": [
      "Мене звати Олег. Мені 16 років.\n"
     ]
    }
   ],
   "source": [
    "s = 'Мене звати %s. Мені %d років.' % ('Олег', 14+2)\n",
    "print(s)"
   ]
  },
  {
   "cell_type": "code",
   "execution_count": 29,
   "metadata": {},
   "outputs": [
    {
     "name": "stdout",
     "output_type": "stream",
     "text": [
      "Мене звати Олег. Мені 14 років\n"
     ]
    }
   ],
   "source": [
    "tem = 'Мене звати {1}. Мені {0} років'\n",
    "form = tem.format(14, 'Олег')\n",
    "print(form)"
   ]
  },
  {
   "cell_type": "code",
   "execution_count": 1,
   "metadata": {},
   "outputs": [
    {
     "name": "stdout",
     "output_type": "stream",
     "text": [
      "|left      |center|               right|\n",
      "pi: 3.142\n"
     ]
    }
   ],
   "source": [
    "print(\"|{:<10}|{:*^0}|{:>20}|\".format('left', 'center', 'right'))\n",
    "\n",
    "print('pi: {:0.4}'.format(3.14151553363))"
   ]
  },
  {
   "cell_type": "code",
   "execution_count": 35,
   "metadata": {},
   "outputs": [
    {
     "name": "stdout",
     "output_type": "stream",
     "text": [
      "--------------------------------------------------------------------------------\n",
      "|  №  |Товар                                   |       кількіть|       вартість|\n",
      "--------------------------------------------------------------------------------\n",
      "|  1  |Апельсин                                |              6|            150|\n",
      "|  2  |Лимон                                   |              8|             90|\n",
      "|  3  |Картопля                                |            123|            445|\n",
      "--------------------------------------------------------------------------------\n",
      "| Продано всього                                               |            685|\n",
      "--------------------------------------------------------------------------------\n"
     ]
    }
   ],
   "source": [
    "elimiter = '-' * 80\n",
    "goods = [['Апельсин', 6, 150], ['Лимон', 8, 90], ['Картопля', 123, 445]]\n",
    " \n",
    "total_sum = 0\n",
    "number = 0\n",
    " \n",
    "print(elimiter)\n",
    "print(\"|{:^5}|{:<40}|{:>15}|{:>15}|\".format('№', 'Товар', 'кількіть', 'вартість'))\n",
    "print(elimiter)\n",
    " \n",
    "for good in goods :\n",
    "    name = good[0]\n",
    "    count = good[1]\n",
    "    money = good[2]\n",
    "    number += 1;\n",
    "    total_sum += money\n",
    "    print(\"|{:^5}|{:<40}|{:>15}|{:>15}|\".format(number, name, count, money))\n",
    " \n",
    "print(elimiter)\n",
    "print(\"|{:<62}|{:>15}|\".format(' Продано всього', total_sum))\n",
    "print(elimiter)"
   ]
  }
 ],
 "metadata": {
  "interpreter": {
   "hash": "38740d3277777e2cd7c6c2cc9d8addf5118fdf3f82b1b39231fd12aeac8aee8b"
  },
  "kernelspec": {
   "display_name": "Python 3.10.0 64-bit",
   "language": "python",
   "name": "python3"
  },
  "language_info": {
   "codemirror_mode": {
    "name": "ipython",
    "version": 3
   },
   "file_extension": ".py",
   "mimetype": "text/x-python",
   "name": "python",
   "nbconvert_exporter": "python",
   "pygments_lexer": "ipython3",
   "version": "3.10.0"
  },
  "orig_nbformat": 4
 },
 "nbformat": 4,
 "nbformat_minor": 2
}
