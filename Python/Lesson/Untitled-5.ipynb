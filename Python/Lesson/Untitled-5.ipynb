{
 "cells": [
  {
   "cell_type": "code",
   "execution_count": 3,
   "metadata": {},
   "outputs": [
    {
     "name": "stdout",
     "output_type": "stream",
     "text": [
      "Jingle bells, jingle bells\n",
      "Jingle all the way\n",
      "Oh, what fun it is to ride\n",
      "In a one horse open sleigh\n"
     ]
    }
   ],
   "source": [
    "text = \"\"\"This is first line\n",
    "And second line\n",
    "Last third line\"\"\"\n",
    " \n",
    "song = '''Jingle bells, jingle bells\n",
    "Jingle all the way\n",
    "Oh, what fun it is to ride\n",
    "In a one horse open sleigh'''\n",
    "\n",
    "print(song)"
   ]
  },
  {
   "cell_type": "code",
   "execution_count": 4,
   "metadata": {},
   "outputs": [
    {
     "name": "stdout",
     "output_type": "stream",
     "text": [
      "Textual data in Python is handled with str objects, or strings. Strings are immutable sequences of Unicode code points. String literals are written in a variety of ways.\n"
     ]
    }
   ],
   "source": [
    "one_line_text = \"Textual data in Python is handled with str objects, or strings. \"\\\n",
    "            \t\"Strings are immutable sequences of Unicode code points. \"\\\n",
    "            \t\"String literals are written in a variety of ways.\"\n",
    "print(one_line_text)"
   ]
  },
  {
   "cell_type": "code",
   "execution_count": 5,
   "metadata": {},
   "outputs": [
    {
     "name": "stdout",
     "output_type": "stream",
     "text": [
      "15\n",
      "[12, 11]\n"
     ]
    }
   ],
   "source": [
    "# an integer to a string\n",
    "s = str(15)\n",
    "print(s)\n",
    " \n",
    " \n",
    "# a list to a string\n",
    "s = str([12, 11])\n",
    "print(s)"
   ]
  },
  {
   "cell_type": "code",
   "execution_count": 6,
   "metadata": {},
   "outputs": [
    {
     "data": {
      "text/plain": [
       "'ly'"
      ]
     },
     "execution_count": 6,
     "metadata": {},
     "output_type": "execute_result"
    }
   ],
   "source": [
    "message = 'Hello Dmytro'\n",
    "\n",
    "message[2] + message[8]"
   ]
  },
  {
   "cell_type": "code",
   "execution_count": 7,
   "metadata": {},
   "outputs": [
    {
     "name": "stdout",
     "output_type": "stream",
     "text": [
      "A\n",
      "r\n"
     ]
    }
   ],
   "source": [
    "pip = 'Andrii Khromets'\n",
    "first_name_start = pip[0]\n",
    "last_name_start = pip[-6]\n",
    " \n",
    "print(first_name_start)\n",
    "print(last_name_start)\n",
    " \n",
    "if first_name_start == last_name_start :\n",
    "\tprint('first name and last name strts with', first_name_start)"
   ]
  },
  {
   "cell_type": "code",
   "execution_count": 11,
   "metadata": {},
   "outputs": [
    {
     "data": {
      "text/plain": [
       "'bdfh'"
      ]
     },
     "execution_count": 11,
     "metadata": {},
     "output_type": "execute_result"
    }
   ],
   "source": [
    "s = 'abcdefghijk'\n",
    "# s[3:5]\n",
    "# s[:6]\n",
    "# s[3:]\n",
    "\n",
    "s[1:8:2]\n",
    "\n",
    "# s[::-1]\n",
    "# s[-3:]\n",
    "# s[:-5]\n",
    "# s[-1:-6:-2]"
   ]
  },
  {
   "cell_type": "code",
   "execution_count": 12,
   "metadata": {},
   "outputs": [
    {
     "name": "stdout",
     "output_type": "stream",
     "text": [
      "Hello World!\n"
     ]
    }
   ],
   "source": [
    "s = 'Hello' + ' ' + 'World' + '!'\n",
    "print(s)"
   ]
  },
  {
   "cell_type": "code",
   "execution_count": 13,
   "metadata": {},
   "outputs": [
    {
     "name": "stdout",
     "output_type": "stream",
     "text": [
      "-------------------------\n",
      "abcabcabc\n"
     ]
    }
   ],
   "source": [
    "delimiter = '-' * 25\n",
    "print(delimiter)\n",
    " \n",
    "s = 'abc' * 3\n",
    "print(s)"
   ]
  },
  {
   "cell_type": "code",
   "execution_count": 15,
   "metadata": {},
   "outputs": [
    {
     "name": "stdout",
     "output_type": "stream",
     "text": [
      "i\tAndrii\tKhromets\n"
     ]
    }
   ],
   "source": [
    "fio = \"i\\tAndrii\\tKhromets\"\n",
    "print(fio)"
   ]
  },
  {
   "cell_type": "code",
   "execution_count": 26,
   "metadata": {},
   "outputs": [
    {
     "name": "stdout",
     "output_type": "stream",
     "text": [
      "д\\Артанян\n",
      "avtor says: \"cytota\"\n"
     ]
    },
    {
     "data": {
      "text/plain": [
       "9"
      ]
     },
     "execution_count": 26,
     "metadata": {},
     "output_type": "execute_result"
    }
   ],
   "source": [
    "name = 'д\\Артанян'\n",
    "\n",
    "print(name)\n",
    "\n",
    "cytota = \"avtor says: \\\"cytota\\\"\"\n",
    "\n",
    "print(cytota)\n",
    "len(name)\n",
    "\n",
    "name.find(mask, 2, 4)\n",
    "name.count(mask, 1, 0)\n"
   ]
  },
  {
   "cell_type": "code",
   "execution_count": 24,
   "metadata": {},
   "outputs": [
    {
     "name": "stdout",
     "output_type": "stream",
     "text": [
      "Spam\n"
     ]
    }
   ],
   "source": [
    "adv_words = ['купити', 'продати', 'реклама']\n",
    "user_text = input()\n",
    "not_found = -1\n",
    "is_spam = False\n",
    " \n",
    "for stop_word in adv_words :\n",
    "\tif user_text.find(stop_word) != not_found :\n",
    "    \t is_spam = True\n",
    "    \t break\n",
    "\t\n",
    "message = 'Spam' if is_spam else 'Not Spam' \t\n",
    "print(message)"
   ]
  }
 ],
 "metadata": {
  "interpreter": {
   "hash": "38740d3277777e2cd7c6c2cc9d8addf5118fdf3f82b1b39231fd12aeac8aee8b"
  },
  "kernelspec": {
   "display_name": "Python 3.10.0 64-bit",
   "language": "python",
   "name": "python3"
  },
  "language_info": {
   "codemirror_mode": {
    "name": "ipython",
    "version": 3
   },
   "file_extension": ".py",
   "mimetype": "text/x-python",
   "name": "python",
   "nbconvert_exporter": "python",
   "pygments_lexer": "ipython3",
   "version": "3.10.0"
  },
  "orig_nbformat": 4
 },
 "nbformat": 4,
 "nbformat_minor": 2
}
